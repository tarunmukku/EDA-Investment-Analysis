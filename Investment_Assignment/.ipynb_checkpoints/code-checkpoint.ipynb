{
 "cells": [
  {
   "cell_type": "code",
   "execution_count": 1,
   "metadata": {},
   "outputs": [],
   "source": [
    "import pandas as pd\n",
    "import numpy as np\n",
    "import geopandas as gpd\n",
    "import matplotlib.pyplot as plt\n",
    "import matplotlib.patches as mpatches\n",
    "from cartopy import crs as ccrs"
   ]
  },
  {
   "cell_type": "code",
   "execution_count": 2,
   "metadata": {},
   "outputs": [],
   "source": [
    "rounds2 = pd.read_csv('rounds2.csv', encoding = \"ISO-8859-1\")\n",
    "companies = pd.read_csv('companies.csv', encoding = \"ISO-8859-1\")\n",
    "pd.set_option('display.float_format', '{:.2f}'.format)"
   ]
  },
  {
   "cell_type": "code",
   "execution_count": 3,
   "metadata": {},
   "outputs": [
    {
     "data": {
      "text/html": [
       "<div>\n",
       "<style scoped>\n",
       "    .dataframe tbody tr th:only-of-type {\n",
       "        vertical-align: middle;\n",
       "    }\n",
       "\n",
       "    .dataframe tbody tr th {\n",
       "        vertical-align: top;\n",
       "    }\n",
       "\n",
       "    .dataframe thead th {\n",
       "        text-align: right;\n",
       "    }\n",
       "</style>\n",
       "<table border=\"1\" class=\"dataframe\">\n",
       "  <thead>\n",
       "    <tr style=\"text-align: right;\">\n",
       "      <th></th>\n",
       "      <th>company_permalink</th>\n",
       "      <th>funding_round_permalink</th>\n",
       "      <th>funding_round_type</th>\n",
       "      <th>funding_round_code</th>\n",
       "      <th>funded_at</th>\n",
       "      <th>raised_amount_usd</th>\n",
       "    </tr>\n",
       "  </thead>\n",
       "  <tbody>\n",
       "    <tr>\n",
       "      <th>0</th>\n",
       "      <td>/organization/-fame</td>\n",
       "      <td>/funding-round/9a01d05418af9f794eebff7ace91f638</td>\n",
       "      <td>venture</td>\n",
       "      <td>B</td>\n",
       "      <td>05-01-2015</td>\n",
       "      <td>10000000.00</td>\n",
       "    </tr>\n",
       "    <tr>\n",
       "      <th>1</th>\n",
       "      <td>/ORGANIZATION/-QOUNTER</td>\n",
       "      <td>/funding-round/22dacff496eb7acb2b901dec1dfe5633</td>\n",
       "      <td>venture</td>\n",
       "      <td>A</td>\n",
       "      <td>14-10-2014</td>\n",
       "      <td>nan</td>\n",
       "    </tr>\n",
       "    <tr>\n",
       "      <th>2</th>\n",
       "      <td>/organization/-qounter</td>\n",
       "      <td>/funding-round/b44fbb94153f6cdef13083530bb48030</td>\n",
       "      <td>seed</td>\n",
       "      <td>NaN</td>\n",
       "      <td>01-03-2014</td>\n",
       "      <td>700000.00</td>\n",
       "    </tr>\n",
       "    <tr>\n",
       "      <th>3</th>\n",
       "      <td>/ORGANIZATION/-THE-ONE-OF-THEM-INC-</td>\n",
       "      <td>/funding-round/650b8f704416801069bb178a1418776b</td>\n",
       "      <td>venture</td>\n",
       "      <td>B</td>\n",
       "      <td>30-01-2014</td>\n",
       "      <td>3406878.00</td>\n",
       "    </tr>\n",
       "    <tr>\n",
       "      <th>4</th>\n",
       "      <td>/organization/0-6-com</td>\n",
       "      <td>/funding-round/5727accaeaa57461bd22a9bdd945382d</td>\n",
       "      <td>venture</td>\n",
       "      <td>A</td>\n",
       "      <td>19-03-2008</td>\n",
       "      <td>2000000.00</td>\n",
       "    </tr>\n",
       "  </tbody>\n",
       "</table>\n",
       "</div>"
      ],
      "text/plain": [
       "                     company_permalink  \\\n",
       "0                  /organization/-fame   \n",
       "1               /ORGANIZATION/-QOUNTER   \n",
       "2               /organization/-qounter   \n",
       "3  /ORGANIZATION/-THE-ONE-OF-THEM-INC-   \n",
       "4                /organization/0-6-com   \n",
       "\n",
       "                           funding_round_permalink funding_round_type  \\\n",
       "0  /funding-round/9a01d05418af9f794eebff7ace91f638            venture   \n",
       "1  /funding-round/22dacff496eb7acb2b901dec1dfe5633            venture   \n",
       "2  /funding-round/b44fbb94153f6cdef13083530bb48030               seed   \n",
       "3  /funding-round/650b8f704416801069bb178a1418776b            venture   \n",
       "4  /funding-round/5727accaeaa57461bd22a9bdd945382d            venture   \n",
       "\n",
       "  funding_round_code   funded_at  raised_amount_usd  \n",
       "0                  B  05-01-2015        10000000.00  \n",
       "1                  A  14-10-2014                nan  \n",
       "2                NaN  01-03-2014          700000.00  \n",
       "3                  B  30-01-2014         3406878.00  \n",
       "4                  A  19-03-2008         2000000.00  "
      ]
     },
     "execution_count": 3,
     "metadata": {},
     "output_type": "execute_result"
    }
   ],
   "source": [
    "rounds2.head()"
   ]
  },
  {
   "cell_type": "markdown",
   "metadata": {},
   "source": [
    "indetify number of records in round2"
   ]
  },
  {
   "cell_type": "code",
   "execution_count": 4,
   "metadata": {
    "scrolled": true
   },
   "outputs": [
    {
     "data": {
      "text/plain": [
       "114949"
      ]
     },
     "execution_count": 4,
     "metadata": {},
     "output_type": "execute_result"
    }
   ],
   "source": [
    "len(rounds2.index)"
   ]
  },
  {
   "cell_type": "code",
   "execution_count": 5,
   "metadata": {},
   "outputs": [
    {
     "data": {
      "text/html": [
       "<div>\n",
       "<style scoped>\n",
       "    .dataframe tbody tr th:only-of-type {\n",
       "        vertical-align: middle;\n",
       "    }\n",
       "\n",
       "    .dataframe tbody tr th {\n",
       "        vertical-align: top;\n",
       "    }\n",
       "\n",
       "    .dataframe thead th {\n",
       "        text-align: right;\n",
       "    }\n",
       "</style>\n",
       "<table border=\"1\" class=\"dataframe\">\n",
       "  <thead>\n",
       "    <tr style=\"text-align: right;\">\n",
       "      <th></th>\n",
       "      <th>permalink</th>\n",
       "      <th>name</th>\n",
       "      <th>homepage_url</th>\n",
       "      <th>category_list</th>\n",
       "      <th>status</th>\n",
       "      <th>country_code</th>\n",
       "      <th>state_code</th>\n",
       "      <th>region</th>\n",
       "      <th>city</th>\n",
       "      <th>founded_at</th>\n",
       "    </tr>\n",
       "  </thead>\n",
       "  <tbody>\n",
       "    <tr>\n",
       "      <th>0</th>\n",
       "      <td>/Organization/-Fame</td>\n",
       "      <td>#fame</td>\n",
       "      <td>http://livfame.com</td>\n",
       "      <td>Media</td>\n",
       "      <td>operating</td>\n",
       "      <td>IND</td>\n",
       "      <td>16</td>\n",
       "      <td>Mumbai</td>\n",
       "      <td>Mumbai</td>\n",
       "      <td>NaN</td>\n",
       "    </tr>\n",
       "    <tr>\n",
       "      <th>1</th>\n",
       "      <td>/Organization/-Qounter</td>\n",
       "      <td>:Qounter</td>\n",
       "      <td>http://www.qounter.com</td>\n",
       "      <td>Application Platforms|Real Time|Social Network...</td>\n",
       "      <td>operating</td>\n",
       "      <td>USA</td>\n",
       "      <td>DE</td>\n",
       "      <td>DE - Other</td>\n",
       "      <td>Delaware City</td>\n",
       "      <td>04-09-2014</td>\n",
       "    </tr>\n",
       "    <tr>\n",
       "      <th>2</th>\n",
       "      <td>/Organization/-The-One-Of-Them-Inc-</td>\n",
       "      <td>(THE) ONE of THEM,Inc.</td>\n",
       "      <td>http://oneofthem.jp</td>\n",
       "      <td>Apps|Games|Mobile</td>\n",
       "      <td>operating</td>\n",
       "      <td>NaN</td>\n",
       "      <td>NaN</td>\n",
       "      <td>NaN</td>\n",
       "      <td>NaN</td>\n",
       "      <td>NaN</td>\n",
       "    </tr>\n",
       "    <tr>\n",
       "      <th>3</th>\n",
       "      <td>/Organization/0-6-Com</td>\n",
       "      <td>0-6.com</td>\n",
       "      <td>http://www.0-6.com</td>\n",
       "      <td>Curated Web</td>\n",
       "      <td>operating</td>\n",
       "      <td>CHN</td>\n",
       "      <td>22</td>\n",
       "      <td>Beijing</td>\n",
       "      <td>Beijing</td>\n",
       "      <td>01-01-2007</td>\n",
       "    </tr>\n",
       "    <tr>\n",
       "      <th>4</th>\n",
       "      <td>/Organization/004-Technologies</td>\n",
       "      <td>004 Technologies</td>\n",
       "      <td>http://004gmbh.de/en/004-interact</td>\n",
       "      <td>Software</td>\n",
       "      <td>operating</td>\n",
       "      <td>USA</td>\n",
       "      <td>IL</td>\n",
       "      <td>Springfield, Illinois</td>\n",
       "      <td>Champaign</td>\n",
       "      <td>01-01-2010</td>\n",
       "    </tr>\n",
       "  </tbody>\n",
       "</table>\n",
       "</div>"
      ],
      "text/plain": [
       "                             permalink                    name  \\\n",
       "0                  /Organization/-Fame                   #fame   \n",
       "1               /Organization/-Qounter                :Qounter   \n",
       "2  /Organization/-The-One-Of-Them-Inc-  (THE) ONE of THEM,Inc.   \n",
       "3                /Organization/0-6-Com                 0-6.com   \n",
       "4       /Organization/004-Technologies        004 Technologies   \n",
       "\n",
       "                        homepage_url  \\\n",
       "0                 http://livfame.com   \n",
       "1             http://www.qounter.com   \n",
       "2                http://oneofthem.jp   \n",
       "3                 http://www.0-6.com   \n",
       "4  http://004gmbh.de/en/004-interact   \n",
       "\n",
       "                                       category_list     status country_code  \\\n",
       "0                                              Media  operating          IND   \n",
       "1  Application Platforms|Real Time|Social Network...  operating          USA   \n",
       "2                                  Apps|Games|Mobile  operating          NaN   \n",
       "3                                        Curated Web  operating          CHN   \n",
       "4                                           Software  operating          USA   \n",
       "\n",
       "  state_code                 region           city  founded_at  \n",
       "0         16                 Mumbai         Mumbai         NaN  \n",
       "1         DE             DE - Other  Delaware City  04-09-2014  \n",
       "2        NaN                    NaN            NaN         NaN  \n",
       "3         22                Beijing        Beijing  01-01-2007  \n",
       "4         IL  Springfield, Illinois      Champaign  01-01-2010  "
      ]
     },
     "execution_count": 5,
     "metadata": {},
     "output_type": "execute_result"
    }
   ],
   "source": [
    "companies.head()"
   ]
  },
  {
   "cell_type": "markdown",
   "metadata": {},
   "source": [
    "Remove duplicate company enties  and get unique compnies count"
   ]
  },
  {
   "cell_type": "code",
   "execution_count": 6,
   "metadata": {},
   "outputs": [],
   "source": [
    "rounds2['company_permalink'] = rounds2['company_permalink'].str.lower()\n",
    "companies.permalink = companies.permalink.str.lower()\n",
    "rounds_permalink_unique = rounds2['company_permalink'] .drop_duplicates()\n",
    "companies_unique = companies.permalink.drop_duplicates()"
   ]
  },
  {
   "cell_type": "code",
   "execution_count": 7,
   "metadata": {},
   "outputs": [],
   "source": [
    "unique_rounds2_permalink = len(rounds_permalink_unique.index)\n",
    "unique_companies_permalink = len(companies_unique.index)"
   ]
  },
  {
   "cell_type": "code",
   "execution_count": 8,
   "metadata": {},
   "outputs": [
    {
     "name": "stdout",
     "output_type": "stream",
     "text": [
      "number of unique companies in round2.csv :66370\n",
      "number of unique companies in companies.csv :66368\n"
     ]
    }
   ],
   "source": [
    "print('number of unique companies in round2.csv :'+str(unique_rounds2_permalink))\n",
    "print('number of unique companies in companies.csv :' +str(unique_companies_permalink))"
   ]
  },
  {
   "cell_type": "code",
   "execution_count": 9,
   "metadata": {},
   "outputs": [
    {
     "name": "stdout",
     "output_type": "stream",
     "text": [
      "permalink column can be used as the unique key for each company\n"
     ]
    }
   ],
   "source": [
    "print(companies.permalink.name +' column can be used as the unique key for each company' )"
   ]
  },
  {
   "cell_type": "code",
   "execution_count": 10,
   "metadata": {},
   "outputs": [],
   "source": [
    "df_unique_round2 = rounds_permalink_unique[~rounds_permalink_unique.isin(companies_unique)].drop_duplicates()"
   ]
  },
  {
   "cell_type": "code",
   "execution_count": 11,
   "metadata": {},
   "outputs": [
    {
     "data": {
      "text/plain": [
       "7"
      ]
     },
     "execution_count": 11,
     "metadata": {},
     "output_type": "execute_result"
    }
   ],
   "source": [
    "len(df_unique_round2.index)"
   ]
  },
  {
   "cell_type": "markdown",
   "metadata": {},
   "source": [
    "Are there any companies in the rounds2 file which are not present in companies? No"
   ]
  },
  {
   "cell_type": "markdown",
   "metadata": {},
   "source": [
    "merge rounds2 and companies dataframes"
   ]
  },
  {
   "cell_type": "code",
   "execution_count": 12,
   "metadata": {},
   "outputs": [],
   "source": [
    "master_frame = pd.merge(rounds2, companies, left_on='company_permalink',right_on='permalink')"
   ]
  },
  {
   "cell_type": "code",
   "execution_count": 13,
   "metadata": {},
   "outputs": [
    {
     "name": "stdout",
     "output_type": "stream",
     "text": [
      "number of observations in master_frame: 114942\n"
     ]
    }
   ],
   "source": [
    "print(\"number of observations in master_frame: \"+str(len(master_frame.index)))"
   ]
  },
  {
   "cell_type": "markdown",
   "metadata": {},
   "source": [
    "Get number of fundings for each investment type"
   ]
  },
  {
   "cell_type": "code",
   "execution_count": 14,
   "metadata": {},
   "outputs": [
    {
     "data": {
      "text/plain": [
       "venture                  55493\n",
       "seed                     30518\n",
       "debt_financing            6895\n",
       "angel                     6094\n",
       "undisclosed               4897\n",
       "equity_crowdfunding       3257\n",
       "private_equity            2285\n",
       "grant                     2200\n",
       "convertible_note          1817\n",
       "post_ipo_equity            638\n",
       "product_crowdfunding       410\n",
       "non_equity_assistance      191\n",
       "post_ipo_debt              152\n",
       "secondary_market            95\n",
       "Name: funding_round_type, dtype: int64"
      ]
     },
     "execution_count": 14,
     "metadata": {},
     "output_type": "execute_result"
    }
   ],
   "source": [
    "master_frame.funding_round_type.value_counts()"
   ]
  },
  {
   "cell_type": "code",
   "execution_count": 15,
   "metadata": {},
   "outputs": [
    {
     "data": {
      "text/html": [
       "<div>\n",
       "<style scoped>\n",
       "    .dataframe tbody tr th:only-of-type {\n",
       "        vertical-align: middle;\n",
       "    }\n",
       "\n",
       "    .dataframe tbody tr th {\n",
       "        vertical-align: top;\n",
       "    }\n",
       "\n",
       "    .dataframe thead th {\n",
       "        text-align: right;\n",
       "    }\n",
       "</style>\n",
       "<table border=\"1\" class=\"dataframe\">\n",
       "  <thead>\n",
       "    <tr style=\"text-align: right;\">\n",
       "      <th></th>\n",
       "      <th>company_permalink</th>\n",
       "      <th>funding_round_permalink</th>\n",
       "      <th>funding_round_type</th>\n",
       "      <th>funding_round_code</th>\n",
       "      <th>funded_at</th>\n",
       "      <th>raised_amount_usd</th>\n",
       "      <th>permalink</th>\n",
       "      <th>name</th>\n",
       "      <th>homepage_url</th>\n",
       "      <th>category_list</th>\n",
       "      <th>status</th>\n",
       "      <th>country_code</th>\n",
       "      <th>state_code</th>\n",
       "      <th>region</th>\n",
       "      <th>city</th>\n",
       "      <th>founded_at</th>\n",
       "    </tr>\n",
       "  </thead>\n",
       "  <tbody>\n",
       "    <tr>\n",
       "      <th>0</th>\n",
       "      <td>/organization/-fame</td>\n",
       "      <td>/funding-round/9a01d05418af9f794eebff7ace91f638</td>\n",
       "      <td>venture</td>\n",
       "      <td>B</td>\n",
       "      <td>05-01-2015</td>\n",
       "      <td>10000000.00</td>\n",
       "      <td>/organization/-fame</td>\n",
       "      <td>#fame</td>\n",
       "      <td>http://livfame.com</td>\n",
       "      <td>Media</td>\n",
       "      <td>operating</td>\n",
       "      <td>IND</td>\n",
       "      <td>16</td>\n",
       "      <td>Mumbai</td>\n",
       "      <td>Mumbai</td>\n",
       "      <td>NaN</td>\n",
       "    </tr>\n",
       "    <tr>\n",
       "      <th>1</th>\n",
       "      <td>/organization/-qounter</td>\n",
       "      <td>/funding-round/22dacff496eb7acb2b901dec1dfe5633</td>\n",
       "      <td>venture</td>\n",
       "      <td>A</td>\n",
       "      <td>14-10-2014</td>\n",
       "      <td>nan</td>\n",
       "      <td>/organization/-qounter</td>\n",
       "      <td>:Qounter</td>\n",
       "      <td>http://www.qounter.com</td>\n",
       "      <td>Application Platforms|Real Time|Social Network...</td>\n",
       "      <td>operating</td>\n",
       "      <td>USA</td>\n",
       "      <td>DE</td>\n",
       "      <td>DE - Other</td>\n",
       "      <td>Delaware City</td>\n",
       "      <td>04-09-2014</td>\n",
       "    </tr>\n",
       "    <tr>\n",
       "      <th>2</th>\n",
       "      <td>/organization/-qounter</td>\n",
       "      <td>/funding-round/b44fbb94153f6cdef13083530bb48030</td>\n",
       "      <td>seed</td>\n",
       "      <td>NaN</td>\n",
       "      <td>01-03-2014</td>\n",
       "      <td>700000.00</td>\n",
       "      <td>/organization/-qounter</td>\n",
       "      <td>:Qounter</td>\n",
       "      <td>http://www.qounter.com</td>\n",
       "      <td>Application Platforms|Real Time|Social Network...</td>\n",
       "      <td>operating</td>\n",
       "      <td>USA</td>\n",
       "      <td>DE</td>\n",
       "      <td>DE - Other</td>\n",
       "      <td>Delaware City</td>\n",
       "      <td>04-09-2014</td>\n",
       "    </tr>\n",
       "    <tr>\n",
       "      <th>3</th>\n",
       "      <td>/organization/-the-one-of-them-inc-</td>\n",
       "      <td>/funding-round/650b8f704416801069bb178a1418776b</td>\n",
       "      <td>venture</td>\n",
       "      <td>B</td>\n",
       "      <td>30-01-2014</td>\n",
       "      <td>3406878.00</td>\n",
       "      <td>/organization/-the-one-of-them-inc-</td>\n",
       "      <td>(THE) ONE of THEM,Inc.</td>\n",
       "      <td>http://oneofthem.jp</td>\n",
       "      <td>Apps|Games|Mobile</td>\n",
       "      <td>operating</td>\n",
       "      <td>NaN</td>\n",
       "      <td>NaN</td>\n",
       "      <td>NaN</td>\n",
       "      <td>NaN</td>\n",
       "      <td>NaN</td>\n",
       "    </tr>\n",
       "    <tr>\n",
       "      <th>4</th>\n",
       "      <td>/organization/0-6-com</td>\n",
       "      <td>/funding-round/5727accaeaa57461bd22a9bdd945382d</td>\n",
       "      <td>venture</td>\n",
       "      <td>A</td>\n",
       "      <td>19-03-2008</td>\n",
       "      <td>2000000.00</td>\n",
       "      <td>/organization/0-6-com</td>\n",
       "      <td>0-6.com</td>\n",
       "      <td>http://www.0-6.com</td>\n",
       "      <td>Curated Web</td>\n",
       "      <td>operating</td>\n",
       "      <td>CHN</td>\n",
       "      <td>22</td>\n",
       "      <td>Beijing</td>\n",
       "      <td>Beijing</td>\n",
       "      <td>01-01-2007</td>\n",
       "    </tr>\n",
       "  </tbody>\n",
       "</table>\n",
       "</div>"
      ],
      "text/plain": [
       "                     company_permalink  \\\n",
       "0                  /organization/-fame   \n",
       "1               /organization/-qounter   \n",
       "2               /organization/-qounter   \n",
       "3  /organization/-the-one-of-them-inc-   \n",
       "4                /organization/0-6-com   \n",
       "\n",
       "                           funding_round_permalink funding_round_type  \\\n",
       "0  /funding-round/9a01d05418af9f794eebff7ace91f638            venture   \n",
       "1  /funding-round/22dacff496eb7acb2b901dec1dfe5633            venture   \n",
       "2  /funding-round/b44fbb94153f6cdef13083530bb48030               seed   \n",
       "3  /funding-round/650b8f704416801069bb178a1418776b            venture   \n",
       "4  /funding-round/5727accaeaa57461bd22a9bdd945382d            venture   \n",
       "\n",
       "  funding_round_code   funded_at  raised_amount_usd  \\\n",
       "0                  B  05-01-2015        10000000.00   \n",
       "1                  A  14-10-2014                nan   \n",
       "2                NaN  01-03-2014          700000.00   \n",
       "3                  B  30-01-2014         3406878.00   \n",
       "4                  A  19-03-2008         2000000.00   \n",
       "\n",
       "                             permalink                    name  \\\n",
       "0                  /organization/-fame                   #fame   \n",
       "1               /organization/-qounter                :Qounter   \n",
       "2               /organization/-qounter                :Qounter   \n",
       "3  /organization/-the-one-of-them-inc-  (THE) ONE of THEM,Inc.   \n",
       "4                /organization/0-6-com                 0-6.com   \n",
       "\n",
       "             homepage_url                                      category_list  \\\n",
       "0      http://livfame.com                                              Media   \n",
       "1  http://www.qounter.com  Application Platforms|Real Time|Social Network...   \n",
       "2  http://www.qounter.com  Application Platforms|Real Time|Social Network...   \n",
       "3     http://oneofthem.jp                                  Apps|Games|Mobile   \n",
       "4      http://www.0-6.com                                        Curated Web   \n",
       "\n",
       "      status country_code state_code      region           city  founded_at  \n",
       "0  operating          IND         16      Mumbai         Mumbai         NaN  \n",
       "1  operating          USA         DE  DE - Other  Delaware City  04-09-2014  \n",
       "2  operating          USA         DE  DE - Other  Delaware City  04-09-2014  \n",
       "3  operating          NaN        NaN         NaN            NaN         NaN  \n",
       "4  operating          CHN         22     Beijing        Beijing  01-01-2007  "
      ]
     },
     "execution_count": 15,
     "metadata": {},
     "output_type": "execute_result"
    }
   ],
   "source": [
    "master_frame.head()"
   ]
  },
  {
   "cell_type": "markdown",
   "metadata": {},
   "source": [
    "Create a pivot table based on the investment type"
   ]
  },
  {
   "cell_type": "code",
   "execution_count": 16,
   "metadata": {},
   "outputs": [],
   "source": [
    "master_frame_pivot = master_frame.pivot(columns='funding_round_type', values='raised_amount_usd')"
   ]
  },
  {
   "cell_type": "code",
   "execution_count": 17,
   "metadata": {},
   "outputs": [
    {
     "data": {
      "text/html": [
       "<div>\n",
       "<style scoped>\n",
       "    .dataframe tbody tr th:only-of-type {\n",
       "        vertical-align: middle;\n",
       "    }\n",
       "\n",
       "    .dataframe tbody tr th {\n",
       "        vertical-align: top;\n",
       "    }\n",
       "\n",
       "    .dataframe thead th {\n",
       "        text-align: right;\n",
       "    }\n",
       "</style>\n",
       "<table border=\"1\" class=\"dataframe\">\n",
       "  <thead>\n",
       "    <tr style=\"text-align: right;\">\n",
       "      <th>funding_round_type</th>\n",
       "      <th>angel</th>\n",
       "      <th>convertible_note</th>\n",
       "      <th>debt_financing</th>\n",
       "      <th>equity_crowdfunding</th>\n",
       "      <th>grant</th>\n",
       "      <th>non_equity_assistance</th>\n",
       "      <th>post_ipo_debt</th>\n",
       "      <th>post_ipo_equity</th>\n",
       "      <th>private_equity</th>\n",
       "      <th>product_crowdfunding</th>\n",
       "      <th>secondary_market</th>\n",
       "      <th>seed</th>\n",
       "      <th>undisclosed</th>\n",
       "      <th>venture</th>\n",
       "    </tr>\n",
       "  </thead>\n",
       "  <tbody>\n",
       "    <tr>\n",
       "      <th>0</th>\n",
       "      <td>nan</td>\n",
       "      <td>nan</td>\n",
       "      <td>nan</td>\n",
       "      <td>nan</td>\n",
       "      <td>nan</td>\n",
       "      <td>nan</td>\n",
       "      <td>nan</td>\n",
       "      <td>nan</td>\n",
       "      <td>nan</td>\n",
       "      <td>nan</td>\n",
       "      <td>nan</td>\n",
       "      <td>nan</td>\n",
       "      <td>nan</td>\n",
       "      <td>10000000.00</td>\n",
       "    </tr>\n",
       "    <tr>\n",
       "      <th>1</th>\n",
       "      <td>nan</td>\n",
       "      <td>nan</td>\n",
       "      <td>nan</td>\n",
       "      <td>nan</td>\n",
       "      <td>nan</td>\n",
       "      <td>nan</td>\n",
       "      <td>nan</td>\n",
       "      <td>nan</td>\n",
       "      <td>nan</td>\n",
       "      <td>nan</td>\n",
       "      <td>nan</td>\n",
       "      <td>nan</td>\n",
       "      <td>nan</td>\n",
       "      <td>nan</td>\n",
       "    </tr>\n",
       "    <tr>\n",
       "      <th>2</th>\n",
       "      <td>nan</td>\n",
       "      <td>nan</td>\n",
       "      <td>nan</td>\n",
       "      <td>nan</td>\n",
       "      <td>nan</td>\n",
       "      <td>nan</td>\n",
       "      <td>nan</td>\n",
       "      <td>nan</td>\n",
       "      <td>nan</td>\n",
       "      <td>nan</td>\n",
       "      <td>nan</td>\n",
       "      <td>700000.00</td>\n",
       "      <td>nan</td>\n",
       "      <td>nan</td>\n",
       "    </tr>\n",
       "    <tr>\n",
       "      <th>3</th>\n",
       "      <td>nan</td>\n",
       "      <td>nan</td>\n",
       "      <td>nan</td>\n",
       "      <td>nan</td>\n",
       "      <td>nan</td>\n",
       "      <td>nan</td>\n",
       "      <td>nan</td>\n",
       "      <td>nan</td>\n",
       "      <td>nan</td>\n",
       "      <td>nan</td>\n",
       "      <td>nan</td>\n",
       "      <td>nan</td>\n",
       "      <td>nan</td>\n",
       "      <td>3406878.00</td>\n",
       "    </tr>\n",
       "    <tr>\n",
       "      <th>4</th>\n",
       "      <td>nan</td>\n",
       "      <td>nan</td>\n",
       "      <td>nan</td>\n",
       "      <td>nan</td>\n",
       "      <td>nan</td>\n",
       "      <td>nan</td>\n",
       "      <td>nan</td>\n",
       "      <td>nan</td>\n",
       "      <td>nan</td>\n",
       "      <td>nan</td>\n",
       "      <td>nan</td>\n",
       "      <td>nan</td>\n",
       "      <td>nan</td>\n",
       "      <td>2000000.00</td>\n",
       "    </tr>\n",
       "  </tbody>\n",
       "</table>\n",
       "</div>"
      ],
      "text/plain": [
       "funding_round_type  angel  convertible_note  debt_financing  \\\n",
       "0                     nan               nan             nan   \n",
       "1                     nan               nan             nan   \n",
       "2                     nan               nan             nan   \n",
       "3                     nan               nan             nan   \n",
       "4                     nan               nan             nan   \n",
       "\n",
       "funding_round_type  equity_crowdfunding  grant  non_equity_assistance  \\\n",
       "0                                   nan    nan                    nan   \n",
       "1                                   nan    nan                    nan   \n",
       "2                                   nan    nan                    nan   \n",
       "3                                   nan    nan                    nan   \n",
       "4                                   nan    nan                    nan   \n",
       "\n",
       "funding_round_type  post_ipo_debt  post_ipo_equity  private_equity  \\\n",
       "0                             nan              nan             nan   \n",
       "1                             nan              nan             nan   \n",
       "2                             nan              nan             nan   \n",
       "3                             nan              nan             nan   \n",
       "4                             nan              nan             nan   \n",
       "\n",
       "funding_round_type  product_crowdfunding  secondary_market      seed  \\\n",
       "0                                    nan               nan       nan   \n",
       "1                                    nan               nan       nan   \n",
       "2                                    nan               nan 700000.00   \n",
       "3                                    nan               nan       nan   \n",
       "4                                    nan               nan       nan   \n",
       "\n",
       "funding_round_type  undisclosed     venture  \n",
       "0                           nan 10000000.00  \n",
       "1                           nan         nan  \n",
       "2                           nan         nan  \n",
       "3                           nan  3406878.00  \n",
       "4                           nan  2000000.00  "
      ]
     },
     "execution_count": 17,
     "metadata": {},
     "output_type": "execute_result"
    }
   ],
   "source": [
    "master_frame_pivot.head()"
   ]
  },
  {
   "cell_type": "markdown",
   "metadata": {},
   "source": [
    "plot boxplot based on the investment type"
   ]
  },
  {
   "cell_type": "code",
   "execution_count": 56,
   "metadata": {},
   "outputs": [
    {
     "data": {
      "text/plain": [
       "<matplotlib.legend.Legend at 0x245a5552dc0>"
      ]
     },
     "execution_count": 56,
     "metadata": {},
     "output_type": "execute_result"
    },
    {
     "data": {
      "image/png": "[encoded data removed]",
      "text/plain": [
       "<Figure size 1440x1152 with 1 Axes>"
      ]
     },
     "metadata": {
      "needs_background": "light"
     },
     "output_type": "display_data"
    }
   ],
   "source": [
    "\n",
    "\n",
    "plot_funding=master_frame_pivot.boxplot(column=['venture', 'angel', 'seed','private_equity'],figsize=(20,16))\n",
    "plot_funding.set_yscale(\"log\")\n",
    "lowlimit1=plot_funding.axhline(y = 5000000, color =\"blue\", linestyle =\"--\",alpha=0.5,label='5 Million')\n",
    "toplimit2=plot_funding.axhline(y = 15000000, color =\"red\", linestyle =\"--\",alpha=0.5,label='15 Million')\n",
    "plot_funding.set_title('Fundings on different investment types')\n",
    "plot_funding.set_xlabel('investment types')\n",
    "plot_funding.set_ylabel('Investment amount')\n",
    "plot_funding.legend()\n"
   ]
  },
  {
   "cell_type": "markdown",
   "metadata": {},
   "source": [
    "median is chosen as representative amount due to high amount outliners in each investment type"
   ]
  },
  {
   "cell_type": "code",
   "execution_count": 19,
   "metadata": {},
   "outputs": [
    {
     "data": {
      "text/plain": [
       "funding_round_type\n",
       "venture           5000000.00\n",
       "angel              400000.00\n",
       "seed               275000.00\n",
       "private_equity   20000000.00\n",
       "dtype: float64"
      ]
     },
     "execution_count": 19,
     "metadata": {},
     "output_type": "execute_result"
    }
   ],
   "source": [
    "master_frame_pivot[['venture', 'angel', 'seed','private_equity']].median()"
   ]
  },
  {
   "cell_type": "markdown",
   "metadata": {},
   "source": [
    "Filter the dataset to ventue investment type"
   ]
  },
  {
   "cell_type": "code",
   "execution_count": 20,
   "metadata": {},
   "outputs": [],
   "source": [
    "master_frame_venture = master_frame.loc[(master_frame.funding_round_type=='venture')]"
   ]
  },
  {
   "cell_type": "code",
   "execution_count": 21,
   "metadata": {},
   "outputs": [],
   "source": [
    "top9_sum = master_frame_venture.groupby(['country_code']).sum().sort_values(by='raised_amount_usd',ascending=False).head(9) "
   ]
  },
  {
   "cell_type": "markdown",
   "metadata": {},
   "source": [
    "Indetify the top 9 countries based in the total investment type"
   ]
  },
  {
   "cell_type": "code",
   "execution_count": 22,
   "metadata": {},
   "outputs": [
    {
     "data": {
      "text/html": [
       "<div>\n",
       "<style scoped>\n",
       "    .dataframe tbody tr th:only-of-type {\n",
       "        vertical-align: middle;\n",
       "    }\n",
       "\n",
       "    .dataframe tbody tr th {\n",
       "        vertical-align: top;\n",
       "    }\n",
       "\n",
       "    .dataframe thead th {\n",
       "        text-align: right;\n",
       "    }\n",
       "</style>\n",
       "<table border=\"1\" class=\"dataframe\">\n",
       "  <thead>\n",
       "    <tr style=\"text-align: right;\">\n",
       "      <th></th>\n",
       "      <th>raised_amount_usd</th>\n",
       "    </tr>\n",
       "    <tr>\n",
       "      <th>country_code</th>\n",
       "      <th></th>\n",
       "    </tr>\n",
       "  </thead>\n",
       "  <tbody>\n",
       "    <tr>\n",
       "      <th>USA</th>\n",
       "      <td>422510842796.00</td>\n",
       "    </tr>\n",
       "    <tr>\n",
       "      <th>CHN</th>\n",
       "      <td>39835418773.00</td>\n",
       "    </tr>\n",
       "    <tr>\n",
       "      <th>GBR</th>\n",
       "      <td>20245627416.00</td>\n",
       "    </tr>\n",
       "    <tr>\n",
       "      <th>IND</th>\n",
       "      <td>14391858718.00</td>\n",
       "    </tr>\n",
       "    <tr>\n",
       "      <th>CAN</th>\n",
       "      <td>9583332317.00</td>\n",
       "    </tr>\n",
       "    <tr>\n",
       "      <th>FRA</th>\n",
       "      <td>7259536732.00</td>\n",
       "    </tr>\n",
       "    <tr>\n",
       "      <th>ISR</th>\n",
       "      <td>6907514579.00</td>\n",
       "    </tr>\n",
       "    <tr>\n",
       "      <th>DEU</th>\n",
       "      <td>6346959822.00</td>\n",
       "    </tr>\n",
       "    <tr>\n",
       "      <th>JPN</th>\n",
       "      <td>3363676611.00</td>\n",
       "    </tr>\n",
       "  </tbody>\n",
       "</table>\n",
       "</div>"
      ],
      "text/plain": [
       "              raised_amount_usd\n",
       "country_code                   \n",
       "USA             422510842796.00\n",
       "CHN              39835418773.00\n",
       "GBR              20245627416.00\n",
       "IND              14391858718.00\n",
       "CAN               9583332317.00\n",
       "FRA               7259536732.00\n",
       "ISR               6907514579.00\n",
       "DEU               6346959822.00\n",
       "JPN               3363676611.00"
      ]
     },
     "execution_count": 22,
     "metadata": {},
     "output_type": "execute_result"
    }
   ],
   "source": [
    "top9_sum"
   ]
  },
  {
   "cell_type": "markdown",
   "metadata": {},
   "source": [
    "Add column to populate data for english language "
   ]
  },
  {
   "cell_type": "code",
   "execution_count": 23,
   "metadata": {},
   "outputs": [],
   "source": [
    "top9_sum.insert(1,'English', [True, False, True, True,True,False,True,False,False],True)"
   ]
  },
  {
   "cell_type": "markdown",
   "metadata": {},
   "source": [
    "Load worlmap for cartograph plot using geopandas"
   ]
  },
  {
   "cell_type": "code",
   "execution_count": 24,
   "metadata": {},
   "outputs": [],
   "source": [
    "world = gpd.read_file(gpd.datasets.get_path('naturalearth_lowres'))"
   ]
  },
  {
   "cell_type": "markdown",
   "metadata": {},
   "source": [
    "Fixing in-correct ISO code for France"
   ]
  },
  {
   "cell_type": "code",
   "execution_count": 25,
   "metadata": {},
   "outputs": [],
   "source": [
    "world.loc[world['name'] == 'France', 'iso_a3'] = 'FRA'"
   ]
  },
  {
   "cell_type": "markdown",
   "metadata": {},
   "source": [
    "Merging world df to top 9 countries"
   ]
  },
  {
   "cell_type": "code",
   "execution_count": 26,
   "metadata": {},
   "outputs": [],
   "source": [
    "world_plotting = world.merge(top9_sum,left_on='iso_a3',right_on='country_code',how='outer')"
   ]
  },
  {
   "cell_type": "code",
   "execution_count": 27,
   "metadata": {},
   "outputs": [],
   "source": [
    "world_plotting[\"Rank\"] = world_plotting[(world_plotting.English == True)]['raised_amount_usd'].rank()"
   ]
  },
  {
   "cell_type": "code",
   "execution_count": 28,
   "metadata": {},
   "outputs": [
    {
     "name": "stderr",
     "output_type": "stream",
     "text": [
      "<ipython-input-28-cc4c569bf3b7>:7: UserWarning: Geometry is in a geographic CRS. Results from 'centroid' are likely incorrect. Use 'GeoSeries.to_crs()' to re-project geometries to a projected CRS before this operation.\n",
      "\n",
      "  world_plotting[\"center\"] = world_plotting.loc[world_plotting['iso_a3'].isin(['IND','USA','GBR']), \"geometry\"].centroid\n"
     ]
    },
    {
     "data": {
      "image/png": "[encoded data removed]",
      "text/plain": [
       "<Figure size 1440x1152 with 1 Axes>"
      ]
     },
     "metadata": {
      "needs_background": "light"
     },
     "output_type": "display_data"
    }
   ],
   "source": [
    "fig, ax = plt.subplots(figsize = (20,16)) \n",
    "\n",
    "world_plotting.plot(column='raised_amount_usd',scheme='quantiles',k=5, cmap='Greens', alpha=0.5,legend=True,figsize=(15,9),legend_kwds={'loc': 'lower left'},ax=ax,missing_kwds= dict(color = \"lightgrey\",))\n",
    "world_plotting[(world_plotting.English == False)].geometry.plot(alpha=0.1, hatch='xxx', edgecolor='k',ax=ax)\n",
    "\n",
    "\n",
    "world_plotting[\"center\"] = world_plotting.loc[world_plotting['iso_a3'].isin(['IND','USA','GBR']), \"geometry\"].centroid\n",
    "za_points = world_plotting[world_plotting['iso_a3'].isin(['IND','USA','GBR'])].copy()\n",
    "\n",
    "za_points.set_geometry(\"center\", inplace = True)\n",
    "#ax = world_plotting.plot(figsize = (15, 12), color = \"whitesmoke\", edgecolor = \"lightgrey\", linewidth = 0.5)\n",
    "texts = []\n",
    "\n",
    "for x, y, label in zip(za_points.geometry.x, za_points.geometry.y, za_points[\"name\"]):\n",
    "    texts.append(plt.text(x, y, label, fontsize = 8))\n"
   ]
  },
  {
   "cell_type": "code",
   "execution_count": 29,
   "metadata": {},
   "outputs": [],
   "source": [
    "master_frame_venture = master_frame.loc[(master_frame.funding_round_type=='venture')]"
   ]
  },
  {
   "cell_type": "code",
   "execution_count": 30,
   "metadata": {},
   "outputs": [],
   "source": [
    "top9_venture = master_frame_venture[master_frame_venture.country_code.isin(top9_sum.index)].copy()"
   ]
  },
  {
   "cell_type": "code",
   "execution_count": 31,
   "metadata": {},
   "outputs": [
    {
     "data": {
      "text/html": [
       "<div>\n",
       "<style scoped>\n",
       "    .dataframe tbody tr th:only-of-type {\n",
       "        vertical-align: middle;\n",
       "    }\n",
       "\n",
       "    .dataframe tbody tr th {\n",
       "        vertical-align: top;\n",
       "    }\n",
       "\n",
       "    .dataframe thead th {\n",
       "        text-align: right;\n",
       "    }\n",
       "</style>\n",
       "<table border=\"1\" class=\"dataframe\">\n",
       "  <thead>\n",
       "    <tr style=\"text-align: right;\">\n",
       "      <th></th>\n",
       "      <th>company_permalink</th>\n",
       "      <th>funding_round_permalink</th>\n",
       "      <th>funding_round_type</th>\n",
       "      <th>funding_round_code</th>\n",
       "      <th>funded_at</th>\n",
       "      <th>raised_amount_usd</th>\n",
       "      <th>permalink</th>\n",
       "      <th>name</th>\n",
       "      <th>homepage_url</th>\n",
       "      <th>category_list</th>\n",
       "      <th>status</th>\n",
       "      <th>country_code</th>\n",
       "      <th>state_code</th>\n",
       "      <th>region</th>\n",
       "      <th>city</th>\n",
       "      <th>founded_at</th>\n",
       "    </tr>\n",
       "  </thead>\n",
       "  <tbody>\n",
       "    <tr>\n",
       "      <th>0</th>\n",
       "      <td>/organization/-fame</td>\n",
       "      <td>/funding-round/9a01d05418af9f794eebff7ace91f638</td>\n",
       "      <td>venture</td>\n",
       "      <td>B</td>\n",
       "      <td>05-01-2015</td>\n",
       "      <td>10000000.00</td>\n",
       "      <td>/organization/-fame</td>\n",
       "      <td>#fame</td>\n",
       "      <td>http://livfame.com</td>\n",
       "      <td>Media</td>\n",
       "      <td>operating</td>\n",
       "      <td>IND</td>\n",
       "      <td>16</td>\n",
       "      <td>Mumbai</td>\n",
       "      <td>Mumbai</td>\n",
       "      <td>NaN</td>\n",
       "    </tr>\n",
       "    <tr>\n",
       "      <th>1</th>\n",
       "      <td>/organization/-qounter</td>\n",
       "      <td>/funding-round/22dacff496eb7acb2b901dec1dfe5633</td>\n",
       "      <td>venture</td>\n",
       "      <td>A</td>\n",
       "      <td>14-10-2014</td>\n",
       "      <td>nan</td>\n",
       "      <td>/organization/-qounter</td>\n",
       "      <td>:Qounter</td>\n",
       "      <td>http://www.qounter.com</td>\n",
       "      <td>Application Platforms|Real Time|Social Network...</td>\n",
       "      <td>operating</td>\n",
       "      <td>USA</td>\n",
       "      <td>DE</td>\n",
       "      <td>DE - Other</td>\n",
       "      <td>Delaware City</td>\n",
       "      <td>04-09-2014</td>\n",
       "    </tr>\n",
       "    <tr>\n",
       "      <th>4</th>\n",
       "      <td>/organization/0-6-com</td>\n",
       "      <td>/funding-round/5727accaeaa57461bd22a9bdd945382d</td>\n",
       "      <td>venture</td>\n",
       "      <td>A</td>\n",
       "      <td>19-03-2008</td>\n",
       "      <td>2000000.00</td>\n",
       "      <td>/organization/0-6-com</td>\n",
       "      <td>0-6.com</td>\n",
       "      <td>http://www.0-6.com</td>\n",
       "      <td>Curated Web</td>\n",
       "      <td>operating</td>\n",
       "      <td>CHN</td>\n",
       "      <td>22</td>\n",
       "      <td>Beijing</td>\n",
       "      <td>Beijing</td>\n",
       "      <td>01-01-2007</td>\n",
       "    </tr>\n",
       "    <tr>\n",
       "      <th>5</th>\n",
       "      <td>/organization/004-technologies</td>\n",
       "      <td>/funding-round/1278dd4e6a37fa4b7d7e06c21b3c1830</td>\n",
       "      <td>venture</td>\n",
       "      <td>NaN</td>\n",
       "      <td>24-07-2014</td>\n",
       "      <td>nan</td>\n",
       "      <td>/organization/004-technologies</td>\n",
       "      <td>004 Technologies</td>\n",
       "      <td>http://004gmbh.de/en/004-interact</td>\n",
       "      <td>Software</td>\n",
       "      <td>operating</td>\n",
       "      <td>USA</td>\n",
       "      <td>IL</td>\n",
       "      <td>Springfield, Illinois</td>\n",
       "      <td>Champaign</td>\n",
       "      <td>01-01-2010</td>\n",
       "    </tr>\n",
       "    <tr>\n",
       "      <th>8</th>\n",
       "      <td>/organization/0ndine-biomedical-inc</td>\n",
       "      <td>/funding-round/954b9499724b946ad8c396a57a5f3b72</td>\n",
       "      <td>venture</td>\n",
       "      <td>NaN</td>\n",
       "      <td>21-12-2009</td>\n",
       "      <td>719491.00</td>\n",
       "      <td>/organization/0ndine-biomedical-inc</td>\n",
       "      <td>Ondine Biomedical Inc.</td>\n",
       "      <td>http://ondinebio.com</td>\n",
       "      <td>Biotechnology</td>\n",
       "      <td>operating</td>\n",
       "      <td>CAN</td>\n",
       "      <td>BC</td>\n",
       "      <td>Vancouver</td>\n",
       "      <td>Vancouver</td>\n",
       "      <td>01-01-1997</td>\n",
       "    </tr>\n",
       "    <tr>\n",
       "      <th>10</th>\n",
       "      <td>/organization/0xdata</td>\n",
       "      <td>/funding-round/3bb2ee4a2d89251a10aaa735b1180e44</td>\n",
       "      <td>venture</td>\n",
       "      <td>B</td>\n",
       "      <td>09-11-2015</td>\n",
       "      <td>20000000.00</td>\n",
       "      <td>/organization/0xdata</td>\n",
       "      <td>H2O.ai</td>\n",
       "      <td>http://h2o.ai/</td>\n",
       "      <td>Analytics</td>\n",
       "      <td>operating</td>\n",
       "      <td>USA</td>\n",
       "      <td>CA</td>\n",
       "      <td>SF Bay Area</td>\n",
       "      <td>Mountain View</td>\n",
       "      <td>01-01-2011</td>\n",
       "    </tr>\n",
       "    <tr>\n",
       "      <th>11</th>\n",
       "      <td>/organization/0xdata</td>\n",
       "      <td>/funding-round/ae2a174c06517c2394aed45006322a7e</td>\n",
       "      <td>venture</td>\n",
       "      <td>NaN</td>\n",
       "      <td>03-01-2013</td>\n",
       "      <td>1700000.00</td>\n",
       "      <td>/organization/0xdata</td>\n",
       "      <td>H2O.ai</td>\n",
       "      <td>http://h2o.ai/</td>\n",
       "      <td>Analytics</td>\n",
       "      <td>operating</td>\n",
       "      <td>USA</td>\n",
       "      <td>CA</td>\n",
       "      <td>SF Bay Area</td>\n",
       "      <td>Mountain View</td>\n",
       "      <td>01-01-2011</td>\n",
       "    </tr>\n",
       "    <tr>\n",
       "      <th>12</th>\n",
       "      <td>/organization/0xdata</td>\n",
       "      <td>/funding-round/e1cfcbe1bdf4c70277c5f29a3482f24e</td>\n",
       "      <td>venture</td>\n",
       "      <td>A</td>\n",
       "      <td>19-07-2014</td>\n",
       "      <td>8900000.00</td>\n",
       "      <td>/organization/0xdata</td>\n",
       "      <td>H2O.ai</td>\n",
       "      <td>http://h2o.ai/</td>\n",
       "      <td>Analytics</td>\n",
       "      <td>operating</td>\n",
       "      <td>USA</td>\n",
       "      <td>CA</td>\n",
       "      <td>SF Bay Area</td>\n",
       "      <td>Mountain View</td>\n",
       "      <td>01-01-2011</td>\n",
       "    </tr>\n",
       "    <tr>\n",
       "      <th>22</th>\n",
       "      <td>/organization/1-mainstream</td>\n",
       "      <td>/funding-round/b952cbaf401f310927430c97b68162ea</td>\n",
       "      <td>venture</td>\n",
       "      <td>NaN</td>\n",
       "      <td>17-03-2015</td>\n",
       "      <td>5000000.00</td>\n",
       "      <td>/organization/1-mainstream</td>\n",
       "      <td>1 Mainstream</td>\n",
       "      <td>http://www.1mainstream.com</td>\n",
       "      <td>Apps|Cable|Distribution|Software</td>\n",
       "      <td>acquired</td>\n",
       "      <td>USA</td>\n",
       "      <td>CA</td>\n",
       "      <td>SF Bay Area</td>\n",
       "      <td>Cupertino</td>\n",
       "      <td>01-03-2012</td>\n",
       "    </tr>\n",
       "    <tr>\n",
       "      <th>28</th>\n",
       "      <td>/organization/10-minutes-with</td>\n",
       "      <td>/funding-round/0faccbbcc5818dc5326469f13f5a8ac8</td>\n",
       "      <td>venture</td>\n",
       "      <td>A</td>\n",
       "      <td>09-10-2014</td>\n",
       "      <td>4000000.00</td>\n",
       "      <td>/organization/10-minutes-with</td>\n",
       "      <td>10 Minutes With</td>\n",
       "      <td>http://10minuteswith.com</td>\n",
       "      <td>Education</td>\n",
       "      <td>operating</td>\n",
       "      <td>GBR</td>\n",
       "      <td>H9</td>\n",
       "      <td>London</td>\n",
       "      <td>London</td>\n",
       "      <td>01-01-2013</td>\n",
       "    </tr>\n",
       "    <tr>\n",
       "      <th>33</th>\n",
       "      <td>/organization/1000lookz</td>\n",
       "      <td>/funding-round/e07f6e580046d00c7aeb33fafb9d90a3</td>\n",
       "      <td>venture</td>\n",
       "      <td>NaN</td>\n",
       "      <td>22-07-2013</td>\n",
       "      <td>nan</td>\n",
       "      <td>/organization/1000lookz</td>\n",
       "      <td>1000Lookz</td>\n",
       "      <td>http://1000lookz.com</td>\n",
       "      <td>Beauty</td>\n",
       "      <td>operating</td>\n",
       "      <td>IND</td>\n",
       "      <td>25</td>\n",
       "      <td>Chennai</td>\n",
       "      <td>Chennai</td>\n",
       "      <td>01-01-2008</td>\n",
       "    </tr>\n",
       "  </tbody>\n",
       "</table>\n",
       "</div>"
      ],
      "text/plain": [
       "                      company_permalink  \\\n",
       "0                   /organization/-fame   \n",
       "1                /organization/-qounter   \n",
       "4                 /organization/0-6-com   \n",
       "5        /organization/004-technologies   \n",
       "8   /organization/0ndine-biomedical-inc   \n",
       "10                 /organization/0xdata   \n",
       "11                 /organization/0xdata   \n",
       "12                 /organization/0xdata   \n",
       "22           /organization/1-mainstream   \n",
       "28        /organization/10-minutes-with   \n",
       "33              /organization/1000lookz   \n",
       "\n",
       "                            funding_round_permalink funding_round_type  \\\n",
       "0   /funding-round/9a01d05418af9f794eebff7ace91f638            venture   \n",
       "1   /funding-round/22dacff496eb7acb2b901dec1dfe5633            venture   \n",
       "4   /funding-round/5727accaeaa57461bd22a9bdd945382d            venture   \n",
       "5   /funding-round/1278dd4e6a37fa4b7d7e06c21b3c1830            venture   \n",
       "8   /funding-round/954b9499724b946ad8c396a57a5f3b72            venture   \n",
       "10  /funding-round/3bb2ee4a2d89251a10aaa735b1180e44            venture   \n",
       "11  /funding-round/ae2a174c06517c2394aed45006322a7e            venture   \n",
       "12  /funding-round/e1cfcbe1bdf4c70277c5f29a3482f24e            venture   \n",
       "22  /funding-round/b952cbaf401f310927430c97b68162ea            venture   \n",
       "28  /funding-round/0faccbbcc5818dc5326469f13f5a8ac8            venture   \n",
       "33  /funding-round/e07f6e580046d00c7aeb33fafb9d90a3            venture   \n",
       "\n",
       "   funding_round_code   funded_at  raised_amount_usd  \\\n",
       "0                   B  05-01-2015        10000000.00   \n",
       "1                   A  14-10-2014                nan   \n",
       "4                   A  19-03-2008         2000000.00   \n",
       "5                 NaN  24-07-2014                nan   \n",
       "8                 NaN  21-12-2009          719491.00   \n",
       "10                  B  09-11-2015        20000000.00   \n",
       "11                NaN  03-01-2013         1700000.00   \n",
       "12                  A  19-07-2014         8900000.00   \n",
       "22                NaN  17-03-2015         5000000.00   \n",
       "28                  A  09-10-2014         4000000.00   \n",
       "33                NaN  22-07-2013                nan   \n",
       "\n",
       "                              permalink                    name  \\\n",
       "0                   /organization/-fame                   #fame   \n",
       "1                /organization/-qounter                :Qounter   \n",
       "4                 /organization/0-6-com                 0-6.com   \n",
       "5        /organization/004-technologies        004 Technologies   \n",
       "8   /organization/0ndine-biomedical-inc  Ondine Biomedical Inc.   \n",
       "10                 /organization/0xdata                  H2O.ai   \n",
       "11                 /organization/0xdata                  H2O.ai   \n",
       "12                 /organization/0xdata                  H2O.ai   \n",
       "22           /organization/1-mainstream            1 Mainstream   \n",
       "28        /organization/10-minutes-with         10 Minutes With   \n",
       "33              /organization/1000lookz               1000Lookz   \n",
       "\n",
       "                         homepage_url  \\\n",
       "0                  http://livfame.com   \n",
       "1              http://www.qounter.com   \n",
       "4                  http://www.0-6.com   \n",
       "5   http://004gmbh.de/en/004-interact   \n",
       "8                http://ondinebio.com   \n",
       "10                     http://h2o.ai/   \n",
       "11                     http://h2o.ai/   \n",
       "12                     http://h2o.ai/   \n",
       "22         http://www.1mainstream.com   \n",
       "28           http://10minuteswith.com   \n",
       "33               http://1000lookz.com   \n",
       "\n",
       "                                        category_list     status country_code  \\\n",
       "0                                               Media  operating          IND   \n",
       "1   Application Platforms|Real Time|Social Network...  operating          USA   \n",
       "4                                         Curated Web  operating          CHN   \n",
       "5                                            Software  operating          USA   \n",
       "8                                       Biotechnology  operating          CAN   \n",
       "10                                          Analytics  operating          USA   \n",
       "11                                          Analytics  operating          USA   \n",
       "12                                          Analytics  operating          USA   \n",
       "22                   Apps|Cable|Distribution|Software   acquired          USA   \n",
       "28                                          Education  operating          GBR   \n",
       "33                                             Beauty  operating          IND   \n",
       "\n",
       "   state_code                 region           city  founded_at  \n",
       "0          16                 Mumbai         Mumbai         NaN  \n",
       "1          DE             DE - Other  Delaware City  04-09-2014  \n",
       "4          22                Beijing        Beijing  01-01-2007  \n",
       "5          IL  Springfield, Illinois      Champaign  01-01-2010  \n",
       "8          BC              Vancouver      Vancouver  01-01-1997  \n",
       "10         CA            SF Bay Area  Mountain View  01-01-2011  \n",
       "11         CA            SF Bay Area  Mountain View  01-01-2011  \n",
       "12         CA            SF Bay Area  Mountain View  01-01-2011  \n",
       "22         CA            SF Bay Area      Cupertino  01-03-2012  \n",
       "28         H9                 London         London  01-01-2013  \n",
       "33         25                Chennai        Chennai  01-01-2008  "
      ]
     },
     "execution_count": 31,
     "metadata": {},
     "output_type": "execute_result"
    }
   ],
   "source": [
    "top9_venture.head(11)"
   ]
  },
  {
   "cell_type": "code",
   "execution_count": 32,
   "metadata": {},
   "outputs": [
    {
     "data": {
      "text/plain": [
       "48099"
      ]
     },
     "execution_count": 32,
     "metadata": {},
     "output_type": "execute_result"
    }
   ],
   "source": [
    "len(top9_venture.index)"
   ]
  },
  {
   "cell_type": "code",
   "execution_count": 33,
   "metadata": {},
   "outputs": [],
   "source": [
    "top3_venture = top9_venture[top9_venture['country_code'].isin(['USA','GBR','IND'])].copy()"
   ]
  },
  {
   "cell_type": "code",
   "execution_count": 34,
   "metadata": {},
   "outputs": [],
   "source": [
    "top3_venture['category']= top3_venture.category_list.str.split(\"|\",expand=True)[0]"
   ]
  },
  {
   "cell_type": "markdown",
   "metadata": {},
   "source": [
    "Load mappings file, and map top 3 countries sector listings to one of the 8 main categories"
   ]
  },
  {
   "cell_type": "code",
   "execution_count": 35,
   "metadata": {},
   "outputs": [],
   "source": [
    "mappings = pd.read_csv('mapping.csv')\n",
    "mappings['primary_sector'] = mappings.apply(lambda row: row[row == 1].index[0], axis=1)\n",
    "mappings_category = mappings[['primary_sector','category_list']]\n",
    "top3_sectors = pd.merge(top3_venture,mappings_category, left_on='category',right_on='category_list')"
   ]
  },
  {
   "cell_type": "code",
   "execution_count": 36,
   "metadata": {},
   "outputs": [],
   "source": [
    "top3_sectors = pd.merge(top3_venture,mappings_category, left_on='category',right_on='category_list')"
   ]
  },
  {
   "cell_type": "code",
   "execution_count": 37,
   "metadata": {},
   "outputs": [
    {
     "data": {
      "text/html": [
       "<div>\n",
       "<style scoped>\n",
       "    .dataframe tbody tr th:only-of-type {\n",
       "        vertical-align: middle;\n",
       "    }\n",
       "\n",
       "    .dataframe tbody tr th {\n",
       "        vertical-align: top;\n",
       "    }\n",
       "\n",
       "    .dataframe thead th {\n",
       "        text-align: right;\n",
       "    }\n",
       "</style>\n",
       "<table border=\"1\" class=\"dataframe\">\n",
       "  <thead>\n",
       "    <tr style=\"text-align: right;\">\n",
       "      <th>country_code</th>\n",
       "      <th>GBR</th>\n",
       "      <th>IND</th>\n",
       "      <th>USA</th>\n",
       "    </tr>\n",
       "  </thead>\n",
       "  <tbody>\n",
       "    <tr>\n",
       "      <th>raised_amount_usd</th>\n",
       "      <td>19097204731.00</td>\n",
       "      <td>13668331235.00</td>\n",
       "      <td>394680394849.00</td>\n",
       "    </tr>\n",
       "  </tbody>\n",
       "</table>\n",
       "</div>"
      ],
      "text/plain": [
       "country_code                 GBR            IND             USA\n",
       "raised_amount_usd 19097204731.00 13668331235.00 394680394849.00"
      ]
     },
     "execution_count": 37,
     "metadata": {},
     "output_type": "execute_result"
    }
   ],
   "source": [
    "top3_sectors.pivot_table(columns=['country_code'], values='raised_amount_usd',aggfunc='sum')"
   ]
  },
  {
   "cell_type": "code",
   "execution_count": 58,
   "metadata": {},
   "outputs": [
    {
     "data": {
      "text/plain": [
       "Text(0, 0.5, 'number of Investments')"
      ]
     },
     "execution_count": 58,
     "metadata": {},
     "output_type": "execute_result"
    },
    {
     "data": {
      "image/png": "[encoded data removed]",
      "text/plain": [
       "<Figure size 1440x1152 with 1 Axes>"
      ]
     },
     "metadata": {
      "needs_background": "light"
     },
     "output_type": "display_data"
    }
   ],
   "source": [
    "plot_top3 = top3_sectors.reset_index().pivot_table(index='country_code',columns='primary_sector', values='raised_amount_usd',aggfunc='count').plot.bar(figsize = (20,16))\n",
    "plot_top3.set_title('Top 3 countries by sectors')\n",
    "plot_top3.set_xlabel('Countries by sectors')\n",
    "plot_top3.set_ylabel('number of Investments')"
   ]
  },
  {
   "cell_type": "markdown",
   "metadata": {},
   "source": [
    "Create Three data frames D1, D2 and D3 "
   ]
  },
  {
   "cell_type": "code",
   "execution_count": 39,
   "metadata": {},
   "outputs": [],
   "source": [
    "D1 = top3_sectors[top3_sectors['country_code']=='USA']\n",
    "D2 = top3_sectors[top3_sectors['country_code']=='GBR']\n",
    "D3 = top3_sectors[top3_sectors['country_code']=='IND']"
   ]
  },
  {
   "cell_type": "markdown",
   "metadata": {},
   "source": [
    "Indentify the total number of investements in top 3 countries"
   ]
  },
  {
   "cell_type": "code",
   "execution_count": 40,
   "metadata": {},
   "outputs": [
    {
     "data": {
      "text/plain": [
       "(Int64Index([    4,     5,     6,     7,     8,     9,    10,    11,    12,\n",
       "                13,\n",
       "             ...\n",
       "             38805, 38806, 38807, 38808, 38809, 38810, 38811, 38812, 38813,\n",
       "             38814],\n",
       "            dtype='int64', length=35759),\n",
       " Int64Index([    1,     2,     3,    42,    63,    69,    70,    76,    96,\n",
       "               110,\n",
       "             ...\n",
       "             38737, 38738, 38762, 38766, 38767, 38774, 38781, 38782, 38783,\n",
       "             38802],\n",
       "            dtype='int64', length=2158),\n",
       " Int64Index([    0,    23,   244,   272,   274,   285,   286,   606,   607,\n",
       "               608,\n",
       "             ...\n",
       "             38612, 38613, 38620, 38631, 38697, 38735, 38736, 38770, 38785,\n",
       "             38794],\n",
       "            dtype='int64', length=898))"
      ]
     },
     "execution_count": 40,
     "metadata": {},
     "output_type": "execute_result"
    }
   ],
   "source": [
    "D1.index,D2.index,D3.index"
   ]
  },
  {
   "cell_type": "code",
   "execution_count": 41,
   "metadata": {},
   "outputs": [
    {
     "data": {
      "text/plain": [
       "(394680394849.0, 19097204731.0, 13668331235.0)"
      ]
     },
     "execution_count": 41,
     "metadata": {},
     "output_type": "execute_result"
    }
   ],
   "source": [
    "D1.raised_amount_usd.sum(),D2.raised_amount_usd.sum(),D3.raised_amount_usd.sum()"
   ]
  },
  {
   "cell_type": "code",
   "execution_count": 42,
   "metadata": {},
   "outputs": [
    {
     "data": {
      "text/plain": [
       "Others                                     8693\n",
       "Cleantech / Semiconductors                 8113\n",
       "Social, Finance, Analytics, Advertising    5553\n",
       "News, Search and Messaging                 4562\n",
       "Health                                     3403\n",
       "Manufacturing                              2643\n",
       "Entertainment                              1888\n",
       "Automotive & Sports                         566\n",
       "Blanks                                      338\n",
       "Name: primary_sector, dtype: int64"
      ]
     },
     "execution_count": 42,
     "metadata": {},
     "output_type": "execute_result"
    }
   ],
   "source": [
    "D1.primary_sector.value_counts()"
   ]
  },
  {
   "cell_type": "code",
   "execution_count": 43,
   "metadata": {},
   "outputs": [
    {
     "data": {
      "text/plain": [
       "Others                                     571\n",
       "Cleantech / Semiconductors                 456\n",
       "Social, Finance, Analytics, Advertising    359\n",
       "News, Search and Messaging                 265\n",
       "Entertainment                              157\n",
       "Manufacturing                              132\n",
       "Health                                     126\n",
       "Automotive & Sports                         54\n",
       "Blanks                                      38\n",
       "Name: primary_sector, dtype: int64"
      ]
     },
     "execution_count": 43,
     "metadata": {},
     "output_type": "execute_result"
    }
   ],
   "source": [
    "D2.primary_sector.value_counts()"
   ]
  },
  {
   "cell_type": "code",
   "execution_count": 44,
   "metadata": {},
   "outputs": [
    {
     "data": {
      "text/plain": [
       "Others                                     329\n",
       "News, Search and Messaging                 154\n",
       "Social, Finance, Analytics, Advertising    104\n",
       "Entertainment                               88\n",
       "Manufacturing                               64\n",
       "Cleantech / Semiconductors                  63\n",
       "Health                                      56\n",
       "Automotive & Sports                         32\n",
       "Blanks                                       8\n",
       "Name: primary_sector, dtype: int64"
      ]
     },
     "execution_count": 44,
     "metadata": {},
     "output_type": "execute_result"
    }
   ],
   "source": [
    "D3.primary_sector.value_counts()"
   ]
  },
  {
   "cell_type": "markdown",
   "metadata": {},
   "source": [
    "Indeitfy sector and company details in top 3 companies"
   ]
  },
  {
   "cell_type": "code",
   "execution_count": 45,
   "metadata": {},
   "outputs": [],
   "source": [
    "C1_USA_sector_sum_others = D1.loc[D1.primary_sector=='Others'].pivot_table(columns=['primary_sector','company_permalink'], values='raised_amount_usd',aggfunc='sum')"
   ]
  },
  {
   "cell_type": "code",
   "execution_count": 46,
   "metadata": {
    "scrolled": true
   },
   "outputs": [
    {
     "data": {
      "text/html": [
       "<div>\n",
       "<style scoped>\n",
       "    .dataframe tbody tr th:only-of-type {\n",
       "        vertical-align: middle;\n",
       "    }\n",
       "\n",
       "    .dataframe tbody tr th {\n",
       "        vertical-align: top;\n",
       "    }\n",
       "\n",
       "    .dataframe thead tr th {\n",
       "        text-align: left;\n",
       "    }\n",
       "</style>\n",
       "<table border=\"1\" class=\"dataframe\">\n",
       "  <thead>\n",
       "    <tr>\n",
       "      <th>primary_sector</th>\n",
       "      <th colspan=\"21\" halign=\"left\">Others</th>\n",
       "    </tr>\n",
       "    <tr>\n",
       "      <th>company_permalink</th>\n",
       "      <th>/organization/social-finance</th>\n",
       "      <th>/organization/snapchat</th>\n",
       "      <th>/organization/livingsocial</th>\n",
       "      <th>/organization/facebook</th>\n",
       "      <th>/organization/zenefits</th>\n",
       "      <th>/organization/coreexpress</th>\n",
       "      <th>/organization/jet</th>\n",
       "      <th>/organization/pure-storage</th>\n",
       "      <th>/organization/social-finance-inc</th>\n",
       "      <th>/organization/wayfair</th>\n",
       "      <th>...</th>\n",
       "      <th>/organization/lynx-network-group</th>\n",
       "      <th>/organization/logmatrix</th>\n",
       "      <th>/organization/lingomotors</th>\n",
       "      <th>/organization/lightera</th>\n",
       "      <th>/organization/licketyship</th>\n",
       "      <th>/organization/learnleo-2</th>\n",
       "      <th>/organization/laser-projection-tech</th>\n",
       "      <th>/organization/vsocial</th>\n",
       "      <th>/organization/vwise</th>\n",
       "      <th>/organization/004-technologies</th>\n",
       "    </tr>\n",
       "  </thead>\n",
       "  <tbody>\n",
       "    <tr>\n",
       "      <th>raised_amount_usd</th>\n",
       "      <td>1365199900.00</td>\n",
       "      <td>1165100000.00</td>\n",
       "      <td>818225039.00</td>\n",
       "      <td>615200000.00</td>\n",
       "      <td>581500000.00</td>\n",
       "      <td>573000000.00</td>\n",
       "      <td>545000000.00</td>\n",
       "      <td>470000000.00</td>\n",
       "      <td>398000000.00</td>\n",
       "      <td>358000000.00</td>\n",
       "      <td>...</td>\n",
       "      <td>0.00</td>\n",
       "      <td>0.00</td>\n",
       "      <td>0.00</td>\n",
       "      <td>0.00</td>\n",
       "      <td>0.00</td>\n",
       "      <td>0.00</td>\n",
       "      <td>0.00</td>\n",
       "      <td>0.00</td>\n",
       "      <td>0.00</td>\n",
       "      <td>0.00</td>\n",
       "    </tr>\n",
       "  </tbody>\n",
       "</table>\n",
       "<p>1 rows × 4842 columns</p>\n",
       "</div>"
      ],
      "text/plain": [
       "primary_sector                          Others                         \\\n",
       "company_permalink /organization/social-finance /organization/snapchat   \n",
       "raised_amount_usd                1365199900.00          1165100000.00   \n",
       "\n",
       "primary_sector                                                       \\\n",
       "company_permalink /organization/livingsocial /organization/facebook   \n",
       "raised_amount_usd               818225039.00           615200000.00   \n",
       "\n",
       "primary_sector                                                      \\\n",
       "company_permalink /organization/zenefits /organization/coreexpress   \n",
       "raised_amount_usd           581500000.00              573000000.00   \n",
       "\n",
       "primary_sector                                                  \\\n",
       "company_permalink /organization/jet /organization/pure-storage   \n",
       "raised_amount_usd      545000000.00               470000000.00   \n",
       "\n",
       "primary_sector                                                            ...  \\\n",
       "company_permalink /organization/social-finance-inc /organization/wayfair  ...   \n",
       "raised_amount_usd                     398000000.00          358000000.00  ...   \n",
       "\n",
       "primary_sector                                                              \\\n",
       "company_permalink /organization/lynx-network-group /organization/logmatrix   \n",
       "raised_amount_usd                             0.00                    0.00   \n",
       "\n",
       "primary_sector                                                      \\\n",
       "company_permalink /organization/lingomotors /organization/lightera   \n",
       "raised_amount_usd                      0.00                   0.00   \n",
       "\n",
       "primary_sector                                                        \\\n",
       "company_permalink /organization/licketyship /organization/learnleo-2   \n",
       "raised_amount_usd                      0.00                     0.00   \n",
       "\n",
       "primary_sector                                                               \\\n",
       "company_permalink /organization/laser-projection-tech /organization/vsocial   \n",
       "raised_amount_usd                                0.00                  0.00   \n",
       "\n",
       "primary_sector                                                        \n",
       "company_permalink /organization/vwise /organization/004-technologies  \n",
       "raised_amount_usd                0.00                           0.00  \n",
       "\n",
       "[1 rows x 4842 columns]"
      ]
     },
     "execution_count": 46,
     "metadata": {},
     "output_type": "execute_result"
    }
   ],
   "source": [
    "C1_USA_sector_sum_others.sort_values('raised_amount_usd',axis=1,ascending=False)"
   ]
  },
  {
   "cell_type": "code",
   "execution_count": 47,
   "metadata": {},
   "outputs": [],
   "source": [
    "C1_USA_sector_sum_others = D1.loc[D1.primary_sector=='Cleantech / Semiconductors'].pivot_table(columns=['primary_sector','company_permalink'], values='raised_amount_usd',aggfunc='sum')"
   ]
  },
  {
   "cell_type": "code",
   "execution_count": 48,
   "metadata": {
    "scrolled": true
   },
   "outputs": [
    {
     "data": {
      "text/html": [
       "<div>\n",
       "<style scoped>\n",
       "    .dataframe tbody tr th:only-of-type {\n",
       "        vertical-align: middle;\n",
       "    }\n",
       "\n",
       "    .dataframe tbody tr th {\n",
       "        vertical-align: top;\n",
       "    }\n",
       "\n",
       "    .dataframe thead tr th {\n",
       "        text-align: left;\n",
       "    }\n",
       "</style>\n",
       "<table border=\"1\" class=\"dataframe\">\n",
       "  <thead>\n",
       "    <tr>\n",
       "      <th>primary_sector</th>\n",
       "      <th colspan=\"21\" halign=\"left\">Cleantech / Semiconductors</th>\n",
       "    </tr>\n",
       "    <tr>\n",
       "      <th>company_permalink</th>\n",
       "      <th>/organization/freescale</th>\n",
       "      <th>/organization/juno-therapeutics</th>\n",
       "      <th>/organization/better-place</th>\n",
       "      <th>/organization/brightsource-energy</th>\n",
       "      <th>/organization/greatpoint-energy</th>\n",
       "      <th>/organization/tenaska</th>\n",
       "      <th>/organization/stem-centrx</th>\n",
       "      <th>/organization/invenergy</th>\n",
       "      <th>/organization/miasole</th>\n",
       "      <th>/organization/quantrx-biomedical</th>\n",
       "      <th>...</th>\n",
       "      <th>/organization/ecotensil</th>\n",
       "      <th>/organization/artielle-immunotherapeutics</th>\n",
       "      <th>/organization/digital-solid-state-propulsion</th>\n",
       "      <th>/organization/verdant-power</th>\n",
       "      <th>/organization/medical-simulation</th>\n",
       "      <th>/organization/vested-health</th>\n",
       "      <th>/organization/playtabase</th>\n",
       "      <th>/organization/physicians-immediate-care</th>\n",
       "      <th>/organization/phrixus-pharmaceuticals</th>\n",
       "      <th>/organization/ledgerx</th>\n",
       "    </tr>\n",
       "  </thead>\n",
       "  <tbody>\n",
       "    <tr>\n",
       "      <th>raised_amount_usd</th>\n",
       "      <td>17600000000.00</td>\n",
       "      <td>1159803496.00</td>\n",
       "      <td>775000000.00</td>\n",
       "      <td>582000000.00</td>\n",
       "      <td>562000000.00</td>\n",
       "      <td>550000000.00</td>\n",
       "      <td>473526990.00</td>\n",
       "      <td>459000000.00</td>\n",
       "      <td>416400000.00</td>\n",
       "      <td>406039700.00</td>\n",
       "      <td>...</td>\n",
       "      <td>0.00</td>\n",
       "      <td>0.00</td>\n",
       "      <td>0.00</td>\n",
       "      <td>0.00</td>\n",
       "      <td>0.00</td>\n",
       "      <td>0.00</td>\n",
       "      <td>0.00</td>\n",
       "      <td>0.00</td>\n",
       "      <td>0.00</td>\n",
       "      <td>0.00</td>\n",
       "    </tr>\n",
       "  </tbody>\n",
       "</table>\n",
       "<p>1 rows × 3865 columns</p>\n",
       "</div>"
      ],
      "text/plain": [
       "primary_sector    Cleantech / Semiconductors                                  \\\n",
       "company_permalink    /organization/freescale /organization/juno-therapeutics   \n",
       "raised_amount_usd             17600000000.00                   1159803496.00   \n",
       "\n",
       "primary_sector                                \\\n",
       "company_permalink /organization/better-place   \n",
       "raised_amount_usd               775000000.00   \n",
       "\n",
       "primary_sector                                       \\\n",
       "company_permalink /organization/brightsource-energy   \n",
       "raised_amount_usd                      582000000.00   \n",
       "\n",
       "primary_sector                                                           \\\n",
       "company_permalink /organization/greatpoint-energy /organization/tenaska   \n",
       "raised_amount_usd                    562000000.00          550000000.00   \n",
       "\n",
       "primary_sector                                                       \\\n",
       "company_permalink /organization/stem-centrx /organization/invenergy   \n",
       "raised_amount_usd              473526990.00            459000000.00   \n",
       "\n",
       "primary_sector                                                            ...  \\\n",
       "company_permalink /organization/miasole /organization/quantrx-biomedical  ...   \n",
       "raised_amount_usd          416400000.00                     406039700.00  ...   \n",
       "\n",
       "primary_sector                             \\\n",
       "company_permalink /organization/ecotensil   \n",
       "raised_amount_usd                    0.00   \n",
       "\n",
       "primary_sector                                               \\\n",
       "company_permalink /organization/artielle-immunotherapeutics   \n",
       "raised_amount_usd                                      0.00   \n",
       "\n",
       "primary_sector                                                  \\\n",
       "company_permalink /organization/digital-solid-state-propulsion   \n",
       "raised_amount_usd                                         0.00   \n",
       "\n",
       "primary_sector                                 \\\n",
       "company_permalink /organization/verdant-power   \n",
       "raised_amount_usd                        0.00   \n",
       "\n",
       "primary_sector                                      \\\n",
       "company_permalink /organization/medical-simulation   \n",
       "raised_amount_usd                             0.00   \n",
       "\n",
       "primary_sector                                                          \\\n",
       "company_permalink /organization/vested-health /organization/playtabase   \n",
       "raised_amount_usd                        0.00                     0.00   \n",
       "\n",
       "primary_sector                                             \\\n",
       "company_permalink /organization/physicians-immediate-care   \n",
       "raised_amount_usd                                    0.00   \n",
       "\n",
       "primary_sector                                                                 \n",
       "company_permalink /organization/phrixus-pharmaceuticals /organization/ledgerx  \n",
       "raised_amount_usd                                  0.00                  0.00  \n",
       "\n",
       "[1 rows x 3865 columns]"
      ]
     },
     "execution_count": 48,
     "metadata": {},
     "output_type": "execute_result"
    }
   ],
   "source": [
    "C1_USA_sector_sum_others.sort_values('raised_amount_usd',axis=1,ascending=False)"
   ]
  },
  {
   "cell_type": "code",
   "execution_count": 49,
   "metadata": {},
   "outputs": [],
   "source": [
    "C2_GBR_sector_sum_others = D2.loc[D2.primary_sector=='Others'].pivot_table(columns=['primary_sector','company_permalink'], values='raised_amount_usd',aggfunc='sum')"
   ]
  },
  {
   "cell_type": "code",
   "execution_count": 50,
   "metadata": {
    "scrolled": true
   },
   "outputs": [
    {
     "data": {
      "text/html": [
       "<div>\n",
       "<style scoped>\n",
       "    .dataframe tbody tr th:only-of-type {\n",
       "        vertical-align: middle;\n",
       "    }\n",
       "\n",
       "    .dataframe tbody tr th {\n",
       "        vertical-align: top;\n",
       "    }\n",
       "\n",
       "    .dataframe thead tr th {\n",
       "        text-align: left;\n",
       "    }\n",
       "</style>\n",
       "<table border=\"1\" class=\"dataframe\">\n",
       "  <thead>\n",
       "    <tr>\n",
       "      <th>primary_sector</th>\n",
       "      <th colspan=\"21\" halign=\"left\">Others</th>\n",
       "    </tr>\n",
       "    <tr>\n",
       "      <th>company_permalink</th>\n",
       "      <th>/organization/oneweb</th>\n",
       "      <th>/organization/farfetch</th>\n",
       "      <th>/organization/liquid-telecom</th>\n",
       "      <th>/organization/picochip</th>\n",
       "      <th>/organization/newvoicemedia</th>\n",
       "      <th>/organization/six-degrees-group</th>\n",
       "      <th>/organization/myoptique-group</th>\n",
       "      <th>/organization/onefinestay</th>\n",
       "      <th>/organization/silverrail-technologies</th>\n",
       "      <th>/organization/barrett-xplore</th>\n",
       "      <th>...</th>\n",
       "      <th>/organization/objectstar</th>\n",
       "      <th>/organization/casehub</th>\n",
       "      <th>/organization/user-replay</th>\n",
       "      <th>/organization/dovetail</th>\n",
       "      <th>/organization/spoke-3</th>\n",
       "      <th>/organization/agillic</th>\n",
       "      <th>/organization/brickvest</th>\n",
       "      <th>/organization/vinopolis</th>\n",
       "      <th>/organization/hexology</th>\n",
       "      <th>/organization/lectrio</th>\n",
       "    </tr>\n",
       "  </thead>\n",
       "  <tbody>\n",
       "    <tr>\n",
       "      <th>raised_amount_usd</th>\n",
       "      <td>500000000.00</td>\n",
       "      <td>194500000.00</td>\n",
       "      <td>150000000.00</td>\n",
       "      <td>111500000.00</td>\n",
       "      <td>111300000.00</td>\n",
       "      <td>106392886.00</td>\n",
       "      <td>102232479.00</td>\n",
       "      <td>80900000.00</td>\n",
       "      <td>69000000.00</td>\n",
       "      <td>65000000.00</td>\n",
       "      <td>...</td>\n",
       "      <td>0.00</td>\n",
       "      <td>0.00</td>\n",
       "      <td>0.00</td>\n",
       "      <td>0.00</td>\n",
       "      <td>0.00</td>\n",
       "      <td>0.00</td>\n",
       "      <td>0.00</td>\n",
       "      <td>0.00</td>\n",
       "      <td>0.00</td>\n",
       "      <td>0.00</td>\n",
       "    </tr>\n",
       "  </tbody>\n",
       "</table>\n",
       "<p>1 rows × 383 columns</p>\n",
       "</div>"
      ],
      "text/plain": [
       "primary_sector                  Others                         \\\n",
       "company_permalink /organization/oneweb /organization/farfetch   \n",
       "raised_amount_usd         500000000.00           194500000.00   \n",
       "\n",
       "primary_sector                                                         \\\n",
       "company_permalink /organization/liquid-telecom /organization/picochip   \n",
       "raised_amount_usd                 150000000.00           111500000.00   \n",
       "\n",
       "primary_sector                                                                 \\\n",
       "company_permalink /organization/newvoicemedia /organization/six-degrees-group   \n",
       "raised_amount_usd                111300000.00                    106392886.00   \n",
       "\n",
       "primary_sector                                                             \\\n",
       "company_permalink /organization/myoptique-group /organization/onefinestay   \n",
       "raised_amount_usd                  102232479.00               80900000.00   \n",
       "\n",
       "primary_sector                                           \\\n",
       "company_permalink /organization/silverrail-technologies   \n",
       "raised_amount_usd                           69000000.00   \n",
       "\n",
       "primary_sector                                  ...                           \\\n",
       "company_permalink /organization/barrett-xplore  ... /organization/objectstar   \n",
       "raised_amount_usd                  65000000.00  ...                     0.00   \n",
       "\n",
       "primary_sector                                                     \\\n",
       "company_permalink /organization/casehub /organization/user-replay   \n",
       "raised_amount_usd                  0.00                      0.00   \n",
       "\n",
       "primary_sector                                                  \\\n",
       "company_permalink /organization/dovetail /organization/spoke-3   \n",
       "raised_amount_usd                   0.00                  0.00   \n",
       "\n",
       "primary_sector                                                   \\\n",
       "company_permalink /organization/agillic /organization/brickvest   \n",
       "raised_amount_usd                  0.00                    0.00   \n",
       "\n",
       "primary_sector                                                    \\\n",
       "company_permalink /organization/vinopolis /organization/hexology   \n",
       "raised_amount_usd                    0.00                   0.00   \n",
       "\n",
       "primary_sector                           \n",
       "company_permalink /organization/lectrio  \n",
       "raised_amount_usd                  0.00  \n",
       "\n",
       "[1 rows x 383 columns]"
      ]
     },
     "execution_count": 50,
     "metadata": {},
     "output_type": "execute_result"
    }
   ],
   "source": [
    "C2_GBR_sector_sum_others.sort_values('raised_amount_usd',axis=1,ascending=False)"
   ]
  },
  {
   "cell_type": "code",
   "execution_count": 51,
   "metadata": {},
   "outputs": [],
   "source": [
    "C2_GBR_sector_sum_others = D2.loc[D2.primary_sector=='Cleantech / Semiconductors'].pivot_table(columns=['primary_sector','company_permalink'], values='raised_amount_usd',aggfunc='sum')"
   ]
  },
  {
   "cell_type": "code",
   "execution_count": 52,
   "metadata": {
    "scrolled": true
   },
   "outputs": [
    {
     "data": {
      "text/html": [
       "<div>\n",
       "<style scoped>\n",
       "    .dataframe tbody tr th:only-of-type {\n",
       "        vertical-align: middle;\n",
       "    }\n",
       "\n",
       "    .dataframe tbody tr th {\n",
       "        vertical-align: top;\n",
       "    }\n",
       "\n",
       "    .dataframe thead tr th {\n",
       "        text-align: left;\n",
       "    }\n",
       "</style>\n",
       "<table border=\"1\" class=\"dataframe\">\n",
       "  <thead>\n",
       "    <tr>\n",
       "      <th>primary_sector</th>\n",
       "      <th colspan=\"21\" halign=\"left\">Cleantech / Semiconductors</th>\n",
       "    </tr>\n",
       "    <tr>\n",
       "      <th>company_permalink</th>\n",
       "      <th>/organization/immunocore</th>\n",
       "      <th>/organization/reneuron-group</th>\n",
       "      <th>/organization/circassia</th>\n",
       "      <th>/organization/biovex</th>\n",
       "      <th>/organization/kymab</th>\n",
       "      <th>/organization/oxford-immunotec</th>\n",
       "      <th>/organization/adaptimmune</th>\n",
       "      <th>/organization/intelligent-energy</th>\n",
       "      <th>/organization/archimedes-pharma</th>\n",
       "      <th>/organization/proximagen</th>\n",
       "      <th>...</th>\n",
       "      <th>/organization/aimbrain</th>\n",
       "      <th>/organization/aqdot</th>\n",
       "      <th>/organization/synthace</th>\n",
       "      <th>/organization/ch4e</th>\n",
       "      <th>/organization/mode-diagnostics</th>\n",
       "      <th>/organization/nanotherics</th>\n",
       "      <th>/organization/antech-ltd</th>\n",
       "      <th>/organization/omniperception</th>\n",
       "      <th>/organization/atopix-therapeutics</th>\n",
       "      <th>/organization/zilift</th>\n",
       "    </tr>\n",
       "  </thead>\n",
       "  <tbody>\n",
       "    <tr>\n",
       "      <th>raised_amount_usd</th>\n",
       "      <td>320000000.00</td>\n",
       "      <td>150859892.00</td>\n",
       "      <td>144630999.00</td>\n",
       "      <td>133314585.00</td>\n",
       "      <td>120400000.00</td>\n",
       "      <td>106550010.00</td>\n",
       "      <td>104000000.00</td>\n",
       "      <td>103570000.00</td>\n",
       "      <td>99000000.00</td>\n",
       "      <td>96500000.00</td>\n",
       "      <td>...</td>\n",
       "      <td>0.00</td>\n",
       "      <td>0.00</td>\n",
       "      <td>0.00</td>\n",
       "      <td>0.00</td>\n",
       "      <td>0.00</td>\n",
       "      <td>0.00</td>\n",
       "      <td>0.00</td>\n",
       "      <td>0.00</td>\n",
       "      <td>0.00</td>\n",
       "      <td>0.00</td>\n",
       "    </tr>\n",
       "  </tbody>\n",
       "</table>\n",
       "<p>1 rows × 287 columns</p>\n",
       "</div>"
      ],
      "text/plain": [
       "primary_sector    Cleantech / Semiconductors                               \\\n",
       "company_permalink   /organization/immunocore /organization/reneuron-group   \n",
       "raised_amount_usd               320000000.00                 150859892.00   \n",
       "\n",
       "primary_sector                                                  \\\n",
       "company_permalink /organization/circassia /organization/biovex   \n",
       "raised_amount_usd            144630999.00         133314585.00   \n",
       "\n",
       "primary_sector                                                        \\\n",
       "company_permalink /organization/kymab /organization/oxford-immunotec   \n",
       "raised_amount_usd        120400000.00                   106550010.00   \n",
       "\n",
       "primary_sector                                                                \\\n",
       "company_permalink /organization/adaptimmune /organization/intelligent-energy   \n",
       "raised_amount_usd              104000000.00                     103570000.00   \n",
       "\n",
       "primary_sector                                                              \\\n",
       "company_permalink /organization/archimedes-pharma /organization/proximagen   \n",
       "raised_amount_usd                     99000000.00              96500000.00   \n",
       "\n",
       "primary_sector     ...                                             \\\n",
       "company_permalink  ... /organization/aimbrain /organization/aqdot   \n",
       "raised_amount_usd  ...                   0.00                0.00   \n",
       "\n",
       "primary_sector                                               \\\n",
       "company_permalink /organization/synthace /organization/ch4e   \n",
       "raised_amount_usd                   0.00               0.00   \n",
       "\n",
       "primary_sector                                                              \\\n",
       "company_permalink /organization/mode-diagnostics /organization/nanotherics   \n",
       "raised_amount_usd                           0.00                      0.00   \n",
       "\n",
       "primary_sector                                                           \\\n",
       "company_permalink /organization/antech-ltd /organization/omniperception   \n",
       "raised_amount_usd                     0.00                         0.00   \n",
       "\n",
       "primary_sector                                                            \n",
       "company_permalink /organization/atopix-therapeutics /organization/zilift  \n",
       "raised_amount_usd                              0.00                 0.00  \n",
       "\n",
       "[1 rows x 287 columns]"
      ]
     },
     "execution_count": 52,
     "metadata": {},
     "output_type": "execute_result"
    }
   ],
   "source": [
    "C2_GBR_sector_sum_others.sort_values('raised_amount_usd',axis=1,ascending=False)"
   ]
  },
  {
   "cell_type": "code",
   "execution_count": 53,
   "metadata": {},
   "outputs": [
    {
     "data": {
      "text/html": [
       "<div>\n",
       "<style scoped>\n",
       "    .dataframe tbody tr th:only-of-type {\n",
       "        vertical-align: middle;\n",
       "    }\n",
       "\n",
       "    .dataframe tbody tr th {\n",
       "        vertical-align: top;\n",
       "    }\n",
       "\n",
       "    .dataframe thead tr th {\n",
       "        text-align: left;\n",
       "    }\n",
       "</style>\n",
       "<table border=\"1\" class=\"dataframe\">\n",
       "  <thead>\n",
       "    <tr>\n",
       "      <th>primary_sector</th>\n",
       "      <th colspan=\"21\" halign=\"left\">Others</th>\n",
       "    </tr>\n",
       "    <tr>\n",
       "      <th>company_permalink</th>\n",
       "      <th>/organization/flipkart</th>\n",
       "      <th>/organization/snapdeal</th>\n",
       "      <th>/organization/tata-teleservices</th>\n",
       "      <th>/organization/myntra</th>\n",
       "      <th>/organization/pepperfry-com</th>\n",
       "      <th>/organization/delhivery</th>\n",
       "      <th>/organization/oyo-rooms</th>\n",
       "      <th>/organization/naaptol</th>\n",
       "      <th>/organization/igate-patni-computers</th>\n",
       "      <th>/organization/bigbasket-com</th>\n",
       "      <th>...</th>\n",
       "      <th>/organization/healthkart</th>\n",
       "      <th>/organization/harness-handitouch</th>\n",
       "      <th>/organization/grownout</th>\n",
       "      <th>/organization/greytip-software</th>\n",
       "      <th>/organization/gadgetwood</th>\n",
       "      <th>/organization/frontalrain-technologies</th>\n",
       "      <th>/organization/frilp</th>\n",
       "      <th>/organization/freshworld</th>\n",
       "      <th>/organization/freshmonk</th>\n",
       "      <th>/organization/karma-recycling</th>\n",
       "    </tr>\n",
       "  </thead>\n",
       "  <tbody>\n",
       "    <tr>\n",
       "      <th>raised_amount_usd</th>\n",
       "      <td>2451000000.00</td>\n",
       "      <td>310699998.00</td>\n",
       "      <td>212000000.00</td>\n",
       "      <td>158750000.00</td>\n",
       "      <td>128000000.00</td>\n",
       "      <td>127500000.00</td>\n",
       "      <td>125000000.00</td>\n",
       "      <td>106200000.00</td>\n",
       "      <td>100000000.00</td>\n",
       "      <td>85799999.00</td>\n",
       "      <td>...</td>\n",
       "      <td>0.00</td>\n",
       "      <td>0.00</td>\n",
       "      <td>0.00</td>\n",
       "      <td>0.00</td>\n",
       "      <td>0.00</td>\n",
       "      <td>0.00</td>\n",
       "      <td>0.00</td>\n",
       "      <td>0.00</td>\n",
       "      <td>0.00</td>\n",
       "      <td>0.00</td>\n",
       "    </tr>\n",
       "  </tbody>\n",
       "</table>\n",
       "<p>1 rows × 219 columns</p>\n",
       "</div>"
      ],
      "text/plain": [
       "primary_sector                    Others                         \\\n",
       "company_permalink /organization/flipkart /organization/snapdeal   \n",
       "raised_amount_usd          2451000000.00           310699998.00   \n",
       "\n",
       "primary_sector                                                          \\\n",
       "company_permalink /organization/tata-teleservices /organization/myntra   \n",
       "raised_amount_usd                    212000000.00         158750000.00   \n",
       "\n",
       "primary_sector                                                         \\\n",
       "company_permalink /organization/pepperfry-com /organization/delhivery   \n",
       "raised_amount_usd                128000000.00            127500000.00   \n",
       "\n",
       "primary_sector                                                   \\\n",
       "company_permalink /organization/oyo-rooms /organization/naaptol   \n",
       "raised_amount_usd            125000000.00          106200000.00   \n",
       "\n",
       "primary_sector                                         \\\n",
       "company_permalink /organization/igate-patni-computers   \n",
       "raised_amount_usd                        100000000.00   \n",
       "\n",
       "primary_sector                                 ...                           \\\n",
       "company_permalink /organization/bigbasket-com  ... /organization/healthkart   \n",
       "raised_amount_usd                 85799999.00  ...                     0.00   \n",
       "\n",
       "primary_sector                                                             \\\n",
       "company_permalink /organization/harness-handitouch /organization/grownout   \n",
       "raised_amount_usd                             0.00                   0.00   \n",
       "\n",
       "primary_sector                                                             \\\n",
       "company_permalink /organization/greytip-software /organization/gadgetwood   \n",
       "raised_amount_usd                           0.00                     0.00   \n",
       "\n",
       "primary_sector                                                                \\\n",
       "company_permalink /organization/frontalrain-technologies /organization/frilp   \n",
       "raised_amount_usd                                   0.00                0.00   \n",
       "\n",
       "primary_sector                                                      \\\n",
       "company_permalink /organization/freshworld /organization/freshmonk   \n",
       "raised_amount_usd                     0.00                    0.00   \n",
       "\n",
       "primary_sector                                   \n",
       "company_permalink /organization/karma-recycling  \n",
       "raised_amount_usd                          0.00  \n",
       "\n",
       "[1 rows x 219 columns]"
      ]
     },
     "execution_count": 53,
     "metadata": {},
     "output_type": "execute_result"
    }
   ],
   "source": [
    "C3_IND_sector_sum_others = D3.loc[D3.primary_sector=='Others'].pivot_table(columns=['primary_sector','company_permalink'], values='raised_amount_usd',aggfunc='sum')\n",
    "C3_IND_sector_sum_others.sort_values('raised_amount_usd',axis=1,ascending=False)"
   ]
  },
  {
   "cell_type": "code",
   "execution_count": 54,
   "metadata": {},
   "outputs": [
    {
     "data": {
      "text/html": [
       "<div>\n",
       "<style scoped>\n",
       "    .dataframe tbody tr th:only-of-type {\n",
       "        vertical-align: middle;\n",
       "    }\n",
       "\n",
       "    .dataframe tbody tr th {\n",
       "        vertical-align: top;\n",
       "    }\n",
       "\n",
       "    .dataframe thead tr th {\n",
       "        text-align: left;\n",
       "    }\n",
       "</style>\n",
       "<table border=\"1\" class=\"dataframe\">\n",
       "  <thead>\n",
       "    <tr>\n",
       "      <th>primary_sector</th>\n",
       "      <th colspan=\"21\" halign=\"left\">News, Search and Messaging</th>\n",
       "    </tr>\n",
       "    <tr>\n",
       "      <th>company_permalink</th>\n",
       "      <th>/organization/quikr-india</th>\n",
       "      <th>/organization/freecharge</th>\n",
       "      <th>/organization/micromax-informatics</th>\n",
       "      <th>/organization/hike</th>\n",
       "      <th>/organization/indiahomes</th>\n",
       "      <th>/organization/just-dial</th>\n",
       "      <th>/organization/newshunt</th>\n",
       "      <th>/organization/ramco-systems</th>\n",
       "      <th>/organization/peppertap</th>\n",
       "      <th>/organization/getit-infoservices</th>\n",
       "      <th>...</th>\n",
       "      <th>/organization/plustxt</th>\n",
       "      <th>/organization/ping-digital-network</th>\n",
       "      <th>/organization/dineout</th>\n",
       "      <th>/organization/nowfloats-technologies-private-limited</th>\n",
       "      <th>/organization/nifty-window</th>\n",
       "      <th>/organization/mybustickets</th>\n",
       "      <th>/organization/gadgets-360</th>\n",
       "      <th>/organization/idfy</th>\n",
       "      <th>/organization/innoz</th>\n",
       "      <th>/organization/appointy</th>\n",
       "    </tr>\n",
       "  </thead>\n",
       "  <tbody>\n",
       "    <tr>\n",
       "      <th>raised_amount_usd</th>\n",
       "      <td>346000000.00</td>\n",
       "      <td>113000000.00</td>\n",
       "      <td>88000000.00</td>\n",
       "      <td>86000000.00</td>\n",
       "      <td>75776000.00</td>\n",
       "      <td>67000000.00</td>\n",
       "      <td>58000000.00</td>\n",
       "      <td>52000000.00</td>\n",
       "      <td>46000000.00</td>\n",
       "      <td>36400000.00</td>\n",
       "      <td>...</td>\n",
       "      <td>0.00</td>\n",
       "      <td>0.00</td>\n",
       "      <td>0.00</td>\n",
       "      <td>0.00</td>\n",
       "      <td>0.00</td>\n",
       "      <td>0.00</td>\n",
       "      <td>0.00</td>\n",
       "      <td>0.00</td>\n",
       "      <td>0.00</td>\n",
       "      <td>0.00</td>\n",
       "    </tr>\n",
       "  </tbody>\n",
       "</table>\n",
       "<p>1 rows × 108 columns</p>\n",
       "</div>"
      ],
      "text/plain": [
       "primary_sector    News, Search and Messaging                           \\\n",
       "company_permalink  /organization/quikr-india /organization/freecharge   \n",
       "raised_amount_usd               346000000.00             113000000.00   \n",
       "\n",
       "primary_sector                                                           \\\n",
       "company_permalink /organization/micromax-informatics /organization/hike   \n",
       "raised_amount_usd                        88000000.00        86000000.00   \n",
       "\n",
       "primary_sector                                                      \\\n",
       "company_permalink /organization/indiahomes /organization/just-dial   \n",
       "raised_amount_usd              75776000.00             67000000.00   \n",
       "\n",
       "primary_sector                                                        \\\n",
       "company_permalink /organization/newshunt /organization/ramco-systems   \n",
       "raised_amount_usd            58000000.00                 52000000.00   \n",
       "\n",
       "primary_sector                                                              \\\n",
       "company_permalink /organization/peppertap /organization/getit-infoservices   \n",
       "raised_amount_usd             46000000.00                      36400000.00   \n",
       "\n",
       "primary_sector     ...                        \\\n",
       "company_permalink  ... /organization/plustxt   \n",
       "raised_amount_usd  ...                  0.00   \n",
       "\n",
       "primary_sector                                                              \\\n",
       "company_permalink /organization/ping-digital-network /organization/dineout   \n",
       "raised_amount_usd                               0.00                  0.00   \n",
       "\n",
       "primary_sector                                                          \\\n",
       "company_permalink /organization/nowfloats-technologies-private-limited   \n",
       "raised_amount_usd                                               0.00     \n",
       "\n",
       "primary_sector                                                           \\\n",
       "company_permalink /organization/nifty-window /organization/mybustickets   \n",
       "raised_amount_usd                       0.00                       0.00   \n",
       "\n",
       "primary_sector                                                  \\\n",
       "company_permalink /organization/gadgets-360 /organization/idfy   \n",
       "raised_amount_usd                      0.00               0.00   \n",
       "\n",
       "primary_sector                                                \n",
       "company_permalink /organization/innoz /organization/appointy  \n",
       "raised_amount_usd                0.00                   0.00  \n",
       "\n",
       "[1 rows x 108 columns]"
      ]
     },
     "execution_count": 54,
     "metadata": {},
     "output_type": "execute_result"
    }
   ],
   "source": [
    "\n",
    "C3_IND_sector_sum_others = D3.loc[D3.primary_sector=='News, Search and Messaging'].pivot_table(columns=['primary_sector','company_permalink'], values='raised_amount_usd',aggfunc='sum')\n",
    "C3_IND_sector_sum_others.sort_values('raised_amount_usd',axis=1,ascending=False)"
   ]
  },
  {
   "cell_type": "code",
   "execution_count": null,
   "metadata": {},
   "outputs": [],
   "source": []
  }
 ],
 "metadata": {
  "kernelspec": {
   "display_name": "Python 3",
   "language": "python",
   "name": "python3"
  },
  "language_info": {
   "codemirror_mode": {
    "name": "ipython",
    "version": 3
   },
   "file_extension": ".py",
   "mimetype": "text/x-python",
   "name": "python",
   "nbconvert_exporter": "python",
   "pygments_lexer": "ipython3",
   "version": "3.8.6"
  }
 },
 "nbformat": 4,
 "nbformat_minor": 4
}
